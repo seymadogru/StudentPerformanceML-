{
 "cells": [
  {
   "cell_type": "code",
   "execution_count": 1,
   "id": "3ba33dc4",
   "metadata": {},
   "outputs": [],
   "source": [
    "import numpy as np\n",
    "import pandas as pd\n",
    "import matplotlib.pyplot as plt\n",
    "import scipy\n",
    "import seaborn as sns\n",
    "from sklearn import linear_model\n",
    "%matplotlib inline\n",
    "from sklearn.metrics import accuracy_score,classification_report,confusion_matrix\n",
    "\n",
    "import warnings\n",
    "warnings.filterwarnings('ignore')"
   ]
  },
  {
   "cell_type": "code",
   "execution_count": 2,
   "id": "bed6eace",
   "metadata": {},
   "outputs": [],
   "source": [
    "data = pd.read_csv('data.csv')"
   ]
  },
  {
   "cell_type": "code",
   "execution_count": 3,
   "id": "859174ba",
   "metadata": {},
   "outputs": [
    {
     "data": {
      "text/html": [
       "<div>\n",
       "<style scoped>\n",
       "    .dataframe tbody tr th:only-of-type {\n",
       "        vertical-align: middle;\n",
       "    }\n",
       "\n",
       "    .dataframe tbody tr th {\n",
       "        vertical-align: top;\n",
       "    }\n",
       "\n",
       "    .dataframe thead th {\n",
       "        text-align: right;\n",
       "    }\n",
       "</style>\n",
       "<table border=\"1\" class=\"dataframe\">\n",
       "  <thead>\n",
       "    <tr style=\"text-align: right;\">\n",
       "      <th></th>\n",
       "      <th>gender</th>\n",
       "      <th>NationalITy</th>\n",
       "      <th>PlaceofBirth</th>\n",
       "      <th>StageID</th>\n",
       "      <th>GradeID</th>\n",
       "      <th>SectionID</th>\n",
       "      <th>Topic</th>\n",
       "      <th>Semester</th>\n",
       "      <th>Relation</th>\n",
       "      <th>raisedhands</th>\n",
       "      <th>VisITedResources</th>\n",
       "      <th>AnnouncementsView</th>\n",
       "      <th>Discussion</th>\n",
       "      <th>ParentAnsweringSurvey</th>\n",
       "      <th>ParentschoolSatisfaction</th>\n",
       "      <th>StudentAbsenceDays</th>\n",
       "      <th>Class</th>\n",
       "    </tr>\n",
       "  </thead>\n",
       "  <tbody>\n",
       "    <tr>\n",
       "      <th>0</th>\n",
       "      <td>M</td>\n",
       "      <td>KW</td>\n",
       "      <td>KuwaIT</td>\n",
       "      <td>lowerlevel</td>\n",
       "      <td>G-04</td>\n",
       "      <td>A</td>\n",
       "      <td>IT</td>\n",
       "      <td>F</td>\n",
       "      <td>Father</td>\n",
       "      <td>15</td>\n",
       "      <td>16</td>\n",
       "      <td>2</td>\n",
       "      <td>20</td>\n",
       "      <td>Yes</td>\n",
       "      <td>Good</td>\n",
       "      <td>Under-7</td>\n",
       "      <td>M</td>\n",
       "    </tr>\n",
       "    <tr>\n",
       "      <th>1</th>\n",
       "      <td>M</td>\n",
       "      <td>KW</td>\n",
       "      <td>KuwaIT</td>\n",
       "      <td>lowerlevel</td>\n",
       "      <td>G-04</td>\n",
       "      <td>A</td>\n",
       "      <td>IT</td>\n",
       "      <td>F</td>\n",
       "      <td>Father</td>\n",
       "      <td>20</td>\n",
       "      <td>20</td>\n",
       "      <td>3</td>\n",
       "      <td>25</td>\n",
       "      <td>Yes</td>\n",
       "      <td>Good</td>\n",
       "      <td>Under-7</td>\n",
       "      <td>M</td>\n",
       "    </tr>\n",
       "    <tr>\n",
       "      <th>2</th>\n",
       "      <td>M</td>\n",
       "      <td>KW</td>\n",
       "      <td>KuwaIT</td>\n",
       "      <td>lowerlevel</td>\n",
       "      <td>G-04</td>\n",
       "      <td>A</td>\n",
       "      <td>IT</td>\n",
       "      <td>F</td>\n",
       "      <td>Father</td>\n",
       "      <td>10</td>\n",
       "      <td>7</td>\n",
       "      <td>0</td>\n",
       "      <td>30</td>\n",
       "      <td>No</td>\n",
       "      <td>Bad</td>\n",
       "      <td>Above-7</td>\n",
       "      <td>L</td>\n",
       "    </tr>\n",
       "    <tr>\n",
       "      <th>3</th>\n",
       "      <td>M</td>\n",
       "      <td>KW</td>\n",
       "      <td>KuwaIT</td>\n",
       "      <td>lowerlevel</td>\n",
       "      <td>G-04</td>\n",
       "      <td>A</td>\n",
       "      <td>IT</td>\n",
       "      <td>F</td>\n",
       "      <td>Father</td>\n",
       "      <td>30</td>\n",
       "      <td>25</td>\n",
       "      <td>5</td>\n",
       "      <td>35</td>\n",
       "      <td>No</td>\n",
       "      <td>Bad</td>\n",
       "      <td>Above-7</td>\n",
       "      <td>L</td>\n",
       "    </tr>\n",
       "    <tr>\n",
       "      <th>4</th>\n",
       "      <td>M</td>\n",
       "      <td>KW</td>\n",
       "      <td>KuwaIT</td>\n",
       "      <td>lowerlevel</td>\n",
       "      <td>G-04</td>\n",
       "      <td>A</td>\n",
       "      <td>IT</td>\n",
       "      <td>F</td>\n",
       "      <td>Father</td>\n",
       "      <td>40</td>\n",
       "      <td>50</td>\n",
       "      <td>12</td>\n",
       "      <td>50</td>\n",
       "      <td>No</td>\n",
       "      <td>Bad</td>\n",
       "      <td>Above-7</td>\n",
       "      <td>M</td>\n",
       "    </tr>\n",
       "    <tr>\n",
       "      <th>5</th>\n",
       "      <td>F</td>\n",
       "      <td>KW</td>\n",
       "      <td>KuwaIT</td>\n",
       "      <td>lowerlevel</td>\n",
       "      <td>G-04</td>\n",
       "      <td>A</td>\n",
       "      <td>IT</td>\n",
       "      <td>F</td>\n",
       "      <td>Father</td>\n",
       "      <td>42</td>\n",
       "      <td>30</td>\n",
       "      <td>13</td>\n",
       "      <td>70</td>\n",
       "      <td>Yes</td>\n",
       "      <td>Bad</td>\n",
       "      <td>Above-7</td>\n",
       "      <td>M</td>\n",
       "    </tr>\n",
       "    <tr>\n",
       "      <th>6</th>\n",
       "      <td>M</td>\n",
       "      <td>KW</td>\n",
       "      <td>KuwaIT</td>\n",
       "      <td>MiddleSchool</td>\n",
       "      <td>G-07</td>\n",
       "      <td>A</td>\n",
       "      <td>Math</td>\n",
       "      <td>F</td>\n",
       "      <td>Father</td>\n",
       "      <td>35</td>\n",
       "      <td>12</td>\n",
       "      <td>0</td>\n",
       "      <td>17</td>\n",
       "      <td>No</td>\n",
       "      <td>Bad</td>\n",
       "      <td>Above-7</td>\n",
       "      <td>L</td>\n",
       "    </tr>\n",
       "    <tr>\n",
       "      <th>7</th>\n",
       "      <td>M</td>\n",
       "      <td>KW</td>\n",
       "      <td>KuwaIT</td>\n",
       "      <td>MiddleSchool</td>\n",
       "      <td>G-07</td>\n",
       "      <td>A</td>\n",
       "      <td>Math</td>\n",
       "      <td>F</td>\n",
       "      <td>Father</td>\n",
       "      <td>50</td>\n",
       "      <td>10</td>\n",
       "      <td>15</td>\n",
       "      <td>22</td>\n",
       "      <td>Yes</td>\n",
       "      <td>Good</td>\n",
       "      <td>Under-7</td>\n",
       "      <td>M</td>\n",
       "    </tr>\n",
       "    <tr>\n",
       "      <th>8</th>\n",
       "      <td>F</td>\n",
       "      <td>KW</td>\n",
       "      <td>KuwaIT</td>\n",
       "      <td>MiddleSchool</td>\n",
       "      <td>G-07</td>\n",
       "      <td>A</td>\n",
       "      <td>Math</td>\n",
       "      <td>F</td>\n",
       "      <td>Father</td>\n",
       "      <td>12</td>\n",
       "      <td>21</td>\n",
       "      <td>16</td>\n",
       "      <td>50</td>\n",
       "      <td>Yes</td>\n",
       "      <td>Good</td>\n",
       "      <td>Under-7</td>\n",
       "      <td>M</td>\n",
       "    </tr>\n",
       "    <tr>\n",
       "      <th>9</th>\n",
       "      <td>F</td>\n",
       "      <td>KW</td>\n",
       "      <td>KuwaIT</td>\n",
       "      <td>MiddleSchool</td>\n",
       "      <td>G-07</td>\n",
       "      <td>B</td>\n",
       "      <td>IT</td>\n",
       "      <td>F</td>\n",
       "      <td>Father</td>\n",
       "      <td>70</td>\n",
       "      <td>80</td>\n",
       "      <td>25</td>\n",
       "      <td>70</td>\n",
       "      <td>Yes</td>\n",
       "      <td>Good</td>\n",
       "      <td>Under-7</td>\n",
       "      <td>M</td>\n",
       "    </tr>\n",
       "    <tr>\n",
       "      <th>10</th>\n",
       "      <td>M</td>\n",
       "      <td>KW</td>\n",
       "      <td>KuwaIT</td>\n",
       "      <td>MiddleSchool</td>\n",
       "      <td>G-07</td>\n",
       "      <td>A</td>\n",
       "      <td>Math</td>\n",
       "      <td>F</td>\n",
       "      <td>Father</td>\n",
       "      <td>50</td>\n",
       "      <td>88</td>\n",
       "      <td>30</td>\n",
       "      <td>80</td>\n",
       "      <td>Yes</td>\n",
       "      <td>Good</td>\n",
       "      <td>Under-7</td>\n",
       "      <td>H</td>\n",
       "    </tr>\n",
       "    <tr>\n",
       "      <th>11</th>\n",
       "      <td>M</td>\n",
       "      <td>KW</td>\n",
       "      <td>KuwaIT</td>\n",
       "      <td>MiddleSchool</td>\n",
       "      <td>G-07</td>\n",
       "      <td>B</td>\n",
       "      <td>Math</td>\n",
       "      <td>F</td>\n",
       "      <td>Father</td>\n",
       "      <td>19</td>\n",
       "      <td>6</td>\n",
       "      <td>19</td>\n",
       "      <td>12</td>\n",
       "      <td>Yes</td>\n",
       "      <td>Good</td>\n",
       "      <td>Under-7</td>\n",
       "      <td>M</td>\n",
       "    </tr>\n",
       "    <tr>\n",
       "      <th>12</th>\n",
       "      <td>M</td>\n",
       "      <td>KW</td>\n",
       "      <td>KuwaIT</td>\n",
       "      <td>lowerlevel</td>\n",
       "      <td>G-04</td>\n",
       "      <td>A</td>\n",
       "      <td>IT</td>\n",
       "      <td>F</td>\n",
       "      <td>Father</td>\n",
       "      <td>5</td>\n",
       "      <td>1</td>\n",
       "      <td>0</td>\n",
       "      <td>11</td>\n",
       "      <td>No</td>\n",
       "      <td>Bad</td>\n",
       "      <td>Above-7</td>\n",
       "      <td>L</td>\n",
       "    </tr>\n",
       "    <tr>\n",
       "      <th>13</th>\n",
       "      <td>M</td>\n",
       "      <td>lebanon</td>\n",
       "      <td>lebanon</td>\n",
       "      <td>MiddleSchool</td>\n",
       "      <td>G-08</td>\n",
       "      <td>A</td>\n",
       "      <td>Math</td>\n",
       "      <td>F</td>\n",
       "      <td>Father</td>\n",
       "      <td>20</td>\n",
       "      <td>14</td>\n",
       "      <td>12</td>\n",
       "      <td>19</td>\n",
       "      <td>No</td>\n",
       "      <td>Bad</td>\n",
       "      <td>Above-7</td>\n",
       "      <td>L</td>\n",
       "    </tr>\n",
       "    <tr>\n",
       "      <th>14</th>\n",
       "      <td>F</td>\n",
       "      <td>KW</td>\n",
       "      <td>KuwaIT</td>\n",
       "      <td>MiddleSchool</td>\n",
       "      <td>G-08</td>\n",
       "      <td>A</td>\n",
       "      <td>Math</td>\n",
       "      <td>F</td>\n",
       "      <td>Mum</td>\n",
       "      <td>62</td>\n",
       "      <td>70</td>\n",
       "      <td>44</td>\n",
       "      <td>60</td>\n",
       "      <td>No</td>\n",
       "      <td>Bad</td>\n",
       "      <td>Above-7</td>\n",
       "      <td>H</td>\n",
       "    </tr>\n",
       "  </tbody>\n",
       "</table>\n",
       "</div>"
      ],
      "text/plain": [
       "   gender NationalITy PlaceofBirth       StageID GradeID SectionID Topic  \\\n",
       "0       M          KW       KuwaIT    lowerlevel    G-04         A    IT   \n",
       "1       M          KW       KuwaIT    lowerlevel    G-04         A    IT   \n",
       "2       M          KW       KuwaIT    lowerlevel    G-04         A    IT   \n",
       "3       M          KW       KuwaIT    lowerlevel    G-04         A    IT   \n",
       "4       M          KW       KuwaIT    lowerlevel    G-04         A    IT   \n",
       "5       F          KW       KuwaIT    lowerlevel    G-04         A    IT   \n",
       "6       M          KW       KuwaIT  MiddleSchool    G-07         A  Math   \n",
       "7       M          KW       KuwaIT  MiddleSchool    G-07         A  Math   \n",
       "8       F          KW       KuwaIT  MiddleSchool    G-07         A  Math   \n",
       "9       F          KW       KuwaIT  MiddleSchool    G-07         B    IT   \n",
       "10      M          KW       KuwaIT  MiddleSchool    G-07         A  Math   \n",
       "11      M          KW       KuwaIT  MiddleSchool    G-07         B  Math   \n",
       "12      M          KW       KuwaIT    lowerlevel    G-04         A    IT   \n",
       "13      M     lebanon      lebanon  MiddleSchool    G-08         A  Math   \n",
       "14      F          KW       KuwaIT  MiddleSchool    G-08         A  Math   \n",
       "\n",
       "   Semester Relation  raisedhands  VisITedResources  AnnouncementsView  \\\n",
       "0         F   Father           15                16                  2   \n",
       "1         F   Father           20                20                  3   \n",
       "2         F   Father           10                 7                  0   \n",
       "3         F   Father           30                25                  5   \n",
       "4         F   Father           40                50                 12   \n",
       "5         F   Father           42                30                 13   \n",
       "6         F   Father           35                12                  0   \n",
       "7         F   Father           50                10                 15   \n",
       "8         F   Father           12                21                 16   \n",
       "9         F   Father           70                80                 25   \n",
       "10        F   Father           50                88                 30   \n",
       "11        F   Father           19                 6                 19   \n",
       "12        F   Father            5                 1                  0   \n",
       "13        F   Father           20                14                 12   \n",
       "14        F      Mum           62                70                 44   \n",
       "\n",
       "    Discussion ParentAnsweringSurvey ParentschoolSatisfaction  \\\n",
       "0           20                   Yes                     Good   \n",
       "1           25                   Yes                     Good   \n",
       "2           30                    No                      Bad   \n",
       "3           35                    No                      Bad   \n",
       "4           50                    No                      Bad   \n",
       "5           70                   Yes                      Bad   \n",
       "6           17                    No                      Bad   \n",
       "7           22                   Yes                     Good   \n",
       "8           50                   Yes                     Good   \n",
       "9           70                   Yes                     Good   \n",
       "10          80                   Yes                     Good   \n",
       "11          12                   Yes                     Good   \n",
       "12          11                    No                      Bad   \n",
       "13          19                    No                      Bad   \n",
       "14          60                    No                      Bad   \n",
       "\n",
       "   StudentAbsenceDays Class  \n",
       "0             Under-7     M  \n",
       "1             Under-7     M  \n",
       "2             Above-7     L  \n",
       "3             Above-7     L  \n",
       "4             Above-7     M  \n",
       "5             Above-7     M  \n",
       "6             Above-7     L  \n",
       "7             Under-7     M  \n",
       "8             Under-7     M  \n",
       "9             Under-7     M  \n",
       "10            Under-7     H  \n",
       "11            Under-7     M  \n",
       "12            Above-7     L  \n",
       "13            Above-7     L  \n",
       "14            Above-7     H  "
      ]
     },
     "execution_count": 3,
     "metadata": {},
     "output_type": "execute_result"
    }
   ],
   "source": [
    "data.head(15)"
   ]
  },
  {
   "cell_type": "code",
   "execution_count": 4,
   "id": "593366f2",
   "metadata": {},
   "outputs": [
    {
     "name": "stdout",
     "output_type": "stream",
     "text": [
      "<class 'pandas.core.frame.DataFrame'>\n",
      "RangeIndex: 480 entries, 0 to 479\n",
      "Data columns (total 17 columns):\n",
      " #   Column                    Non-Null Count  Dtype \n",
      "---  ------                    --------------  ----- \n",
      " 0   gender                    480 non-null    object\n",
      " 1   NationalITy               480 non-null    object\n",
      " 2   PlaceofBirth              480 non-null    object\n",
      " 3   StageID                   480 non-null    object\n",
      " 4   GradeID                   480 non-null    object\n",
      " 5   SectionID                 480 non-null    object\n",
      " 6   Topic                     480 non-null    object\n",
      " 7   Semester                  480 non-null    object\n",
      " 8   Relation                  480 non-null    object\n",
      " 9   raisedhands               480 non-null    int64 \n",
      " 10  VisITedResources          480 non-null    int64 \n",
      " 11  AnnouncementsView         480 non-null    int64 \n",
      " 12  Discussion                480 non-null    int64 \n",
      " 13  ParentAnsweringSurvey     480 non-null    object\n",
      " 14  ParentschoolSatisfaction  480 non-null    object\n",
      " 15  StudentAbsenceDays        480 non-null    object\n",
      " 16  Class                     480 non-null    object\n",
      "dtypes: int64(4), object(13)\n",
      "memory usage: 63.9+ KB\n"
     ]
    }
   ],
   "source": [
    "data.info()"
   ]
  },
  {
   "cell_type": "code",
   "execution_count": 5,
   "id": "99d3b6fe",
   "metadata": {},
   "outputs": [
    {
     "data": {
      "text/plain": [
       "gender                       2\n",
       "NationalITy                 14\n",
       "PlaceofBirth                14\n",
       "StageID                      3\n",
       "GradeID                     10\n",
       "SectionID                    3\n",
       "Topic                       12\n",
       "Semester                     2\n",
       "Relation                     2\n",
       "raisedhands                 82\n",
       "VisITedResources            89\n",
       "AnnouncementsView           88\n",
       "Discussion                  90\n",
       "ParentAnsweringSurvey        2\n",
       "ParentschoolSatisfaction     2\n",
       "StudentAbsenceDays           2\n",
       "Class                        3\n",
       "dtype: int64"
      ]
     },
     "execution_count": 5,
     "metadata": {},
     "output_type": "execute_result"
    }
   ],
   "source": [
    "data.nunique()"
   ]
  },
  {
   "cell_type": "code",
   "execution_count": 6,
   "id": "de2a97cd",
   "metadata": {},
   "outputs": [
    {
     "data": {
      "text/plain": [
       "array(['M', 'F'], dtype=object)"
      ]
     },
     "execution_count": 6,
     "metadata": {},
     "output_type": "execute_result"
    }
   ],
   "source": [
    "data.gender.unique()"
   ]
  },
  {
   "cell_type": "code",
   "execution_count": 7,
   "id": "3273ea94",
   "metadata": {},
   "outputs": [],
   "source": [
    "data[\"gender\"] = data.gender.replace({'M':0, \"F\":1})"
   ]
  },
  {
   "cell_type": "code",
   "execution_count": 8,
   "id": "b05cf4ed",
   "metadata": {},
   "outputs": [
    {
     "data": {
      "text/plain": [
       "array([0, 1], dtype=int64)"
      ]
     },
     "execution_count": 8,
     "metadata": {},
     "output_type": "execute_result"
    }
   ],
   "source": [
    "data.gender.unique()"
   ]
  },
  {
   "cell_type": "code",
   "execution_count": 9,
   "id": "d2f98ade",
   "metadata": {},
   "outputs": [
    {
     "data": {
      "image/png": "[encoded data removed]",
      "text/plain": [
       "<Figure size 3600x1200 with 1 Axes>"
      ]
     },
     "metadata": {
      "needs_background": "light"
     },
     "output_type": "display_data"
    }
   ],
   "source": [
    "plt.figure(figsize=(12,4), dpi = 300)\n",
    "sns.countplot(x = 'gender', data = data, palette=\"Set3\")\n",
    "plt.xticks(rotation = 0)\n",
    "plt.show()"
   ]
  },
  {
   "cell_type": "markdown",
   "id": "8bf1abca",
   "metadata": {},
   "source": [
    "#### There are more male students than female students."
   ]
  },
  {
   "cell_type": "code",
   "execution_count": 10,
   "id": "c9b4fa94",
   "metadata": {},
   "outputs": [
    {
     "data": {
      "text/plain": [
       "array(['KW', 'lebanon', 'Egypt', 'SaudiArabia', 'USA', 'Jordan',\n",
       "       'venzuela', 'Iran', 'Tunis', 'Morocco', 'Syria', 'Palestine',\n",
       "       'Iraq', 'Lybia'], dtype=object)"
      ]
     },
     "execution_count": 10,
     "metadata": {},
     "output_type": "execute_result"
    }
   ],
   "source": [
    "data.NationalITy.unique()"
   ]
  },
  {
   "cell_type": "code",
   "execution_count": 11,
   "id": "cd803920",
   "metadata": {},
   "outputs": [
    {
     "data": {
      "text/plain": [
       "KW             179\n",
       "Jordan         172\n",
       "Palestine       28\n",
       "Iraq            22\n",
       "lebanon         17\n",
       "Tunis           12\n",
       "SaudiArabia     11\n",
       "Egypt            9\n",
       "Syria            7\n",
       "Lybia            6\n",
       "Iran             6\n",
       "USA              6\n",
       "Morocco          4\n",
       "venzuela         1\n",
       "Name: NationalITy, dtype: int64"
      ]
     },
     "execution_count": 11,
     "metadata": {},
     "output_type": "execute_result"
    }
   ],
   "source": [
    "data['NationalITy'].value_counts()"
   ]
  },
  {
   "cell_type": "code",
   "execution_count": 12,
   "id": "ba374f47",
   "metadata": {},
   "outputs": [],
   "source": [
    "data[\"NationalITy\"] = data.NationalITy.replace({'KW':1, \"lebanon\":2,'Egypt':3, \"SaudiArabia\":4,'USA':5, \n",
    "                                                \"Jordan\":6,'venzuela':7, \"Iran\":8,\n",
    "                                               'Tunis':9, \"Morocco\":10,'Syria':11, \"Palestine\":12,'Iraq':13, \"Lybia\":14,})"
   ]
  },
  {
   "cell_type": "code",
   "execution_count": 13,
   "id": "5de01219",
   "metadata": {},
   "outputs": [
    {
     "data": {
      "image/png": "[encoded data removed]",
      "text/plain": [
       "<Figure size 3600x1200 with 1 Axes>"
      ]
     },
     "metadata": {
      "needs_background": "light"
     },
     "output_type": "display_data"
    }
   ],
   "source": [
    "plt.figure(figsize=(12,4), dpi = 300)\n",
    "sns.countplot(x = 'NationalITy', data = data, palette=\"Set3\")\n",
    "plt.xticks(rotation = 0)\n",
    "plt.show()"
   ]
  },
  {
   "cell_type": "markdown",
   "id": "fce00435",
   "metadata": {},
   "source": [
    "#### Most students are from Kuwait, followed by Jordan."
   ]
  },
  {
   "cell_type": "code",
   "execution_count": 14,
   "id": "6a64eab6",
   "metadata": {},
   "outputs": [
    {
     "data": {
      "text/plain": [
       "array(['KuwaIT', 'lebanon', 'Egypt', 'SaudiArabia', 'USA', 'Jordan',\n",
       "       'venzuela', 'Iran', 'Tunis', 'Morocco', 'Syria', 'Iraq',\n",
       "       'Palestine', 'Lybia'], dtype=object)"
      ]
     },
     "execution_count": 14,
     "metadata": {},
     "output_type": "execute_result"
    }
   ],
   "source": [
    "data.PlaceofBirth.unique()"
   ]
  },
  {
   "cell_type": "code",
   "execution_count": 15,
   "id": "edf3fc05",
   "metadata": {},
   "outputs": [
    {
     "data": {
      "text/plain": [
       "KuwaIT         180\n",
       "Jordan         176\n",
       "Iraq            22\n",
       "lebanon         19\n",
       "SaudiArabia     16\n",
       "USA             16\n",
       "Palestine       10\n",
       "Egypt            9\n",
       "Tunis            9\n",
       "Lybia            6\n",
       "Iran             6\n",
       "Syria            6\n",
       "Morocco          4\n",
       "venzuela         1\n",
       "Name: PlaceofBirth, dtype: int64"
      ]
     },
     "execution_count": 15,
     "metadata": {},
     "output_type": "execute_result"
    }
   ],
   "source": [
    "data['PlaceofBirth'].value_counts()"
   ]
  },
  {
   "cell_type": "code",
   "execution_count": 16,
   "id": "4c1712cc",
   "metadata": {},
   "outputs": [],
   "source": [
    "data[\"PlaceofBirth\"] = data.NationalITy.replace({'KuwaIT':1, \"lebanon\":2,'Egypt':3, \"SaudiArabia\":4,'USA':5, \n",
    "                                                \"Jordan\":6,'venzuela':7, \"Iran\":8,\n",
    "                                               'Tunis':9, \"Morocco\":10,'Syria':11, \"Palestine\":12,'Iraq':13, \"Lybia\":14,})"
   ]
  },
  {
   "cell_type": "code",
   "execution_count": 17,
   "id": "afe93419",
   "metadata": {},
   "outputs": [
    {
     "data": {
      "text/plain": [
       "array(['lowerlevel', 'MiddleSchool', 'HighSchool'], dtype=object)"
      ]
     },
     "execution_count": 17,
     "metadata": {},
     "output_type": "execute_result"
    }
   ],
   "source": [
    "data.StageID.unique()"
   ]
  },
  {
   "cell_type": "markdown",
   "id": "3f3d940e",
   "metadata": {},
   "source": [
    "#### StageID: Educational Stages- educational level student belongs"
   ]
  },
  {
   "cell_type": "code",
   "execution_count": 18,
   "id": "d27ab3ef",
   "metadata": {},
   "outputs": [],
   "source": [
    "data[\"StageID\"] = data.StageID.replace({'lowerlevel':1, \"MiddleSchool\":2,\"HighSchool\":3})"
   ]
  },
  {
   "cell_type": "code",
   "execution_count": 19,
   "id": "ca563410",
   "metadata": {},
   "outputs": [
    {
     "data": {
      "text/plain": [
       "array(['G-04', 'G-07', 'G-08', 'G-06', 'G-05', 'G-09', 'G-12', 'G-11',\n",
       "       'G-10', 'G-02'], dtype=object)"
      ]
     },
     "execution_count": 19,
     "metadata": {},
     "output_type": "execute_result"
    }
   ],
   "source": [
    "data.GradeID.unique()"
   ]
  },
  {
   "cell_type": "markdown",
   "id": "90673d3f",
   "metadata": {},
   "source": [
    "#### Grade Levels- grade student belongs"
   ]
  },
  {
   "cell_type": "code",
   "execution_count": 20,
   "id": "f97a4f80",
   "metadata": {},
   "outputs": [],
   "source": [
    "data[\"GradeID\"] = data.StageID.replace({'G-04':4, \"G-05\":5,\"G-06\":6,'G-07':7, \"G-08\":8,\"G-09\":9,'G-10':10, \"G-11\":11,\"G-12\":12})"
   ]
  },
  {
   "cell_type": "code",
   "execution_count": 21,
   "id": "b4668101",
   "metadata": {},
   "outputs": [
    {
     "data": {
      "text/plain": [
       "array(['A', 'B', 'C'], dtype=object)"
      ]
     },
     "execution_count": 21,
     "metadata": {},
     "output_type": "execute_result"
    }
   ],
   "source": [
    "data.SectionID.unique()"
   ]
  },
  {
   "cell_type": "markdown",
   "id": "4f108f50",
   "metadata": {},
   "source": [
    "#### Section ID- classroom student belongs"
   ]
  },
  {
   "cell_type": "code",
   "execution_count": 22,
   "id": "b59a67b9",
   "metadata": {},
   "outputs": [],
   "source": [
    "data[\"SectionID\"] = data.SectionID.replace({'A':1, \"B\":2, \"C\":3})"
   ]
  },
  {
   "cell_type": "code",
   "execution_count": 23,
   "id": "92a3e419",
   "metadata": {},
   "outputs": [
    {
     "data": {
      "text/plain": [
       "array(['IT', 'Math', 'Arabic', 'Science', 'English', 'Quran', 'Spanish',\n",
       "       'French', 'History', 'Biology', 'Chemistry', 'Geology'],\n",
       "      dtype=object)"
      ]
     },
     "execution_count": 23,
     "metadata": {},
     "output_type": "execute_result"
    }
   ],
   "source": [
    "data.Topic.unique()"
   ]
  },
  {
   "cell_type": "code",
   "execution_count": 24,
   "id": "d1c86e79",
   "metadata": {},
   "outputs": [],
   "source": [
    "data[\"Topic\"] = data.Topic.replace({'IT':1, \"Math\":2 , \"Arabic\":3, 'Science':4, \"English\":5, \"Quran\":6,'Spanish':7, \"French\":8 , \"History\":9, 'Biology':10, \"Chemistry\":11, \"Geology\":12 })"
   ]
  },
  {
   "cell_type": "code",
   "execution_count": 25,
   "id": "272ab740",
   "metadata": {},
   "outputs": [
    {
     "data": {
      "text/plain": [
       "array(['F', 'S'], dtype=object)"
      ]
     },
     "execution_count": 25,
     "metadata": {},
     "output_type": "execute_result"
    }
   ],
   "source": [
    "data.Semester.unique()"
   ]
  },
  {
   "cell_type": "code",
   "execution_count": 26,
   "id": "ac84160a",
   "metadata": {},
   "outputs": [],
   "source": [
    "data[\"SectionID\"] = data.SectionID.replace({'F':1, \"S\":2})"
   ]
  },
  {
   "cell_type": "code",
   "execution_count": 27,
   "id": "e48e0b62",
   "metadata": {},
   "outputs": [
    {
     "data": {
      "text/plain": [
       "array(['Father', 'Mum'], dtype=object)"
      ]
     },
     "execution_count": 27,
     "metadata": {},
     "output_type": "execute_result"
    }
   ],
   "source": [
    "data.Relation.unique()"
   ]
  },
  {
   "cell_type": "markdown",
   "id": "6bcdd819",
   "metadata": {},
   "source": [
    "#### Relation: Parent responsible for student"
   ]
  },
  {
   "cell_type": "code",
   "execution_count": 28,
   "id": "c91487d0",
   "metadata": {},
   "outputs": [],
   "source": [
    "data[\"Relation\"] = data.Relation.replace({'Father':1, \"Mum\":2})"
   ]
  },
  {
   "cell_type": "code",
   "execution_count": 29,
   "id": "7aa44a2f",
   "metadata": {},
   "outputs": [
    {
     "data": {
      "text/plain": [
       "array([ 15,  20,  10,  30,  40,  42,  35,  50,  12,  70,  19,   5,  62,\n",
       "        36,  55,  69,  60,   2,   0,   8,  25,  75,   4,  45,  14,  33,\n",
       "         7,  13,  29,  39,  49,  16,  28,  27,  21,  80,  17,  65,  22,\n",
       "        11,   1,   3, 100,   6,  90,  77,  24,  66,  23,  82,  72,  51,\n",
       "        85,  87,  95,  81,  53,  92,  83,  67,  96,  57,  73,   9,  32,\n",
       "        52,  59,  61,  79,  18,  74,  97,  41,  71,  98,  78,  89,  88,\n",
       "        86,  76,  99,  84], dtype=int64)"
      ]
     },
     "execution_count": 29,
     "metadata": {},
     "output_type": "execute_result"
    }
   ],
   "source": [
    "data.raisedhands.unique()"
   ]
  },
  {
   "cell_type": "code",
   "execution_count": 30,
   "id": "4d3c2f48",
   "metadata": {},
   "outputs": [
    {
     "data": {
      "text/plain": [
       "array([16, 20,  7, 25, 50, 30, 12, 10, 21, 80, 88,  6,  1, 14, 70, 40, 13,\n",
       "       15, 60,  0,  2, 19, 85, 90,  5, 22, 11, 54, 35, 33,  4, 39, 75, 69,\n",
       "        3,  8, 89, 44, 92, 26, 27, 29, 98,  9, 42, 65, 79, 55, 63, 91, 51,\n",
       "       58, 68, 82, 72, 52, 62, 71, 66, 43, 95, 31, 41, 81, 61, 83, 84, 17,\n",
       "       94, 48, 86, 74, 76, 97, 87, 99, 34, 64, 28, 38, 36, 24, 59, 57, 77,\n",
       "       18, 93, 96, 78], dtype=int64)"
      ]
     },
     "execution_count": 30,
     "metadata": {},
     "output_type": "execute_result"
    }
   ],
   "source": [
    "data.VisITedResources.unique()"
   ]
  },
  {
   "cell_type": "markdown",
   "id": "602323a1",
   "metadata": {},
   "source": [
    "#### VisITedResources:  how many times the student visits a course content"
   ]
  },
  {
   "cell_type": "code",
   "execution_count": 31,
   "id": "155678a1",
   "metadata": {},
   "outputs": [
    {
     "data": {
      "text/plain": [
       "array([ 2,  3,  0,  5, 12, 13, 15, 16, 25, 30, 19, 44, 22, 20, 35, 36, 40,\n",
       "       33,  4, 52, 50, 10,  9,  8, 17, 26, 37,  7, 28,  1, 39,  6, 32, 70,\n",
       "       18, 23, 11, 29, 49, 55, 38, 41, 51, 95, 85, 71, 98, 73, 48, 58, 93,\n",
       "       83, 53, 63, 62, 82, 72, 42, 46, 77, 21, 88, 66, 86, 80, 56, 91, 65,\n",
       "       76, 24, 74, 59, 79, 34, 69, 89, 31, 60, 54, 57, 64, 87, 75, 67, 43,\n",
       "       45, 14, 78], dtype=int64)"
      ]
     },
     "execution_count": 31,
     "metadata": {},
     "output_type": "execute_result"
    }
   ],
   "source": [
    "data.AnnouncementsView.unique()"
   ]
  },
  {
   "cell_type": "markdown",
   "id": "aa7c28d6",
   "metadata": {},
   "source": [
    "#### Viewing announcements-how many times the student checks the new announcements"
   ]
  },
  {
   "cell_type": "code",
   "execution_count": 32,
   "id": "0c5b9e25",
   "metadata": {},
   "outputs": [
    {
     "data": {
      "text/plain": [
       "array([20, 25, 30, 35, 50, 70, 17, 22, 80, 12, 11, 19, 60, 66, 90, 96, 99,\n",
       "       40, 33, 43, 16,  4, 88, 77, 75,  1,  5,  2,  8, 13, 44,  9, 55, 10,\n",
       "       15,  7,  3, 14, 69, 59, 89, 41, 91, 49, 73, 23, 53, 93, 51, 83, 24,\n",
       "       84, 61, 94, 34, 81, 29, 46, 26,  6, 76, 86, 85, 65, 95, 64, 32, 37,\n",
       "       36, 27, 39, 74, 79, 21, 31, 28, 38, 48, 97, 98, 63, 72, 82, 71, 45,\n",
       "       68, 92, 58, 57, 62], dtype=int64)"
      ]
     },
     "execution_count": 32,
     "metadata": {},
     "output_type": "execute_result"
    }
   ],
   "source": [
    "data.Discussion.unique()"
   ]
  },
  {
   "cell_type": "markdown",
   "id": "df90f6a1",
   "metadata": {},
   "source": [
    "#### Discussion groups- how many times the student participate on discussion groups"
   ]
  },
  {
   "cell_type": "code",
   "execution_count": 33,
   "id": "4f984da2",
   "metadata": {},
   "outputs": [
    {
     "data": {
      "text/plain": [
       "array(['Yes', 'No'], dtype=object)"
      ]
     },
     "execution_count": 33,
     "metadata": {},
     "output_type": "execute_result"
    }
   ],
   "source": [
    "data.ParentAnsweringSurvey.unique()"
   ]
  },
  {
   "cell_type": "markdown",
   "id": "2da62373",
   "metadata": {},
   "source": [
    "#### ParentAnsweringSurvey: parent answered the surveys which are provided from school or not"
   ]
  },
  {
   "cell_type": "code",
   "execution_count": 34,
   "id": "4857943b",
   "metadata": {},
   "outputs": [],
   "source": [
    "data[\"ParentAnsweringSurvey\"] = data.ParentAnsweringSurvey.replace({'Yes':1, \"No\":0})"
   ]
  },
  {
   "cell_type": "code",
   "execution_count": 35,
   "id": "612ffc2e",
   "metadata": {},
   "outputs": [
    {
     "data": {
      "text/plain": [
       "array(['Good', 'Bad'], dtype=object)"
      ]
     },
     "execution_count": 35,
     "metadata": {},
     "output_type": "execute_result"
    }
   ],
   "source": [
    "data.ParentschoolSatisfaction.unique()"
   ]
  },
  {
   "cell_type": "markdown",
   "id": "f95f4087",
   "metadata": {},
   "source": [
    "####  Parent School Satisfaction- the Degree of parent satisfaction from school"
   ]
  },
  {
   "cell_type": "code",
   "execution_count": 36,
   "id": "9da2fd81",
   "metadata": {},
   "outputs": [],
   "source": [
    "data[\"ParentschoolSatisfaction\"] = data.ParentschoolSatisfaction.replace({'Good':1, \"Bad\":0})"
   ]
  },
  {
   "cell_type": "code",
   "execution_count": 37,
   "id": "264fc7d0",
   "metadata": {},
   "outputs": [
    {
     "data": {
      "text/plain": [
       "array(['Under-7', 'Above-7'], dtype=object)"
      ]
     },
     "execution_count": 37,
     "metadata": {},
     "output_type": "execute_result"
    }
   ],
   "source": [
    "data.StudentAbsenceDays.unique()"
   ]
  },
  {
   "cell_type": "markdown",
   "id": "28e4276c",
   "metadata": {},
   "source": [
    "#### Student Absence Days-the number of absence days for each student"
   ]
  },
  {
   "cell_type": "code",
   "execution_count": 38,
   "id": "1545ead1",
   "metadata": {},
   "outputs": [],
   "source": [
    "data[\"StudentAbsenceDays\"] = data.StudentAbsenceDays.replace({'Under-7':0, \"Above-7\":1})"
   ]
  },
  {
   "cell_type": "code",
   "execution_count": 39,
   "id": "47d017b8",
   "metadata": {},
   "outputs": [
    {
     "data": {
      "text/plain": [
       "array(['F', 'S'], dtype=object)"
      ]
     },
     "execution_count": 39,
     "metadata": {},
     "output_type": "execute_result"
    }
   ],
   "source": [
    "data.Semester.unique()"
   ]
  },
  {
   "cell_type": "markdown",
   "id": "17bc0b34",
   "metadata": {},
   "source": [
    "#### F: First , S: Second"
   ]
  },
  {
   "cell_type": "code",
   "execution_count": 40,
   "id": "0880cba9",
   "metadata": {},
   "outputs": [],
   "source": [
    "data[\"Semester\"] = data.Semester.replace({'F':1, \"S\":2})"
   ]
  },
  {
   "cell_type": "code",
   "execution_count": 41,
   "id": "4ce4a40e",
   "metadata": {},
   "outputs": [
    {
     "data": {
      "text/html": [
       "<div>\n",
       "<style scoped>\n",
       "    .dataframe tbody tr th:only-of-type {\n",
       "        vertical-align: middle;\n",
       "    }\n",
       "\n",
       "    .dataframe tbody tr th {\n",
       "        vertical-align: top;\n",
       "    }\n",
       "\n",
       "    .dataframe thead th {\n",
       "        text-align: right;\n",
       "    }\n",
       "</style>\n",
       "<table border=\"1\" class=\"dataframe\">\n",
       "  <thead>\n",
       "    <tr style=\"text-align: right;\">\n",
       "      <th></th>\n",
       "      <th>gender</th>\n",
       "      <th>NationalITy</th>\n",
       "      <th>PlaceofBirth</th>\n",
       "      <th>StageID</th>\n",
       "      <th>GradeID</th>\n",
       "      <th>SectionID</th>\n",
       "      <th>Topic</th>\n",
       "      <th>Semester</th>\n",
       "      <th>Relation</th>\n",
       "      <th>raisedhands</th>\n",
       "      <th>VisITedResources</th>\n",
       "      <th>AnnouncementsView</th>\n",
       "      <th>Discussion</th>\n",
       "      <th>ParentAnsweringSurvey</th>\n",
       "      <th>ParentschoolSatisfaction</th>\n",
       "      <th>StudentAbsenceDays</th>\n",
       "      <th>Class</th>\n",
       "    </tr>\n",
       "  </thead>\n",
       "  <tbody>\n",
       "    <tr>\n",
       "      <th>0</th>\n",
       "      <td>0</td>\n",
       "      <td>1</td>\n",
       "      <td>1</td>\n",
       "      <td>1</td>\n",
       "      <td>1</td>\n",
       "      <td>1</td>\n",
       "      <td>1</td>\n",
       "      <td>1</td>\n",
       "      <td>1</td>\n",
       "      <td>15</td>\n",
       "      <td>16</td>\n",
       "      <td>2</td>\n",
       "      <td>20</td>\n",
       "      <td>1</td>\n",
       "      <td>1</td>\n",
       "      <td>0</td>\n",
       "      <td>M</td>\n",
       "    </tr>\n",
       "    <tr>\n",
       "      <th>1</th>\n",
       "      <td>0</td>\n",
       "      <td>1</td>\n",
       "      <td>1</td>\n",
       "      <td>1</td>\n",
       "      <td>1</td>\n",
       "      <td>1</td>\n",
       "      <td>1</td>\n",
       "      <td>1</td>\n",
       "      <td>1</td>\n",
       "      <td>20</td>\n",
       "      <td>20</td>\n",
       "      <td>3</td>\n",
       "      <td>25</td>\n",
       "      <td>1</td>\n",
       "      <td>1</td>\n",
       "      <td>0</td>\n",
       "      <td>M</td>\n",
       "    </tr>\n",
       "    <tr>\n",
       "      <th>2</th>\n",
       "      <td>0</td>\n",
       "      <td>1</td>\n",
       "      <td>1</td>\n",
       "      <td>1</td>\n",
       "      <td>1</td>\n",
       "      <td>1</td>\n",
       "      <td>1</td>\n",
       "      <td>1</td>\n",
       "      <td>1</td>\n",
       "      <td>10</td>\n",
       "      <td>7</td>\n",
       "      <td>0</td>\n",
       "      <td>30</td>\n",
       "      <td>0</td>\n",
       "      <td>0</td>\n",
       "      <td>1</td>\n",
       "      <td>L</td>\n",
       "    </tr>\n",
       "    <tr>\n",
       "      <th>3</th>\n",
       "      <td>0</td>\n",
       "      <td>1</td>\n",
       "      <td>1</td>\n",
       "      <td>1</td>\n",
       "      <td>1</td>\n",
       "      <td>1</td>\n",
       "      <td>1</td>\n",
       "      <td>1</td>\n",
       "      <td>1</td>\n",
       "      <td>30</td>\n",
       "      <td>25</td>\n",
       "      <td>5</td>\n",
       "      <td>35</td>\n",
       "      <td>0</td>\n",
       "      <td>0</td>\n",
       "      <td>1</td>\n",
       "      <td>L</td>\n",
       "    </tr>\n",
       "    <tr>\n",
       "      <th>4</th>\n",
       "      <td>0</td>\n",
       "      <td>1</td>\n",
       "      <td>1</td>\n",
       "      <td>1</td>\n",
       "      <td>1</td>\n",
       "      <td>1</td>\n",
       "      <td>1</td>\n",
       "      <td>1</td>\n",
       "      <td>1</td>\n",
       "      <td>40</td>\n",
       "      <td>50</td>\n",
       "      <td>12</td>\n",
       "      <td>50</td>\n",
       "      <td>0</td>\n",
       "      <td>0</td>\n",
       "      <td>1</td>\n",
       "      <td>M</td>\n",
       "    </tr>\n",
       "  </tbody>\n",
       "</table>\n",
       "</div>"
      ],
      "text/plain": [
       "   gender  NationalITy  PlaceofBirth  StageID  GradeID  SectionID  Topic  \\\n",
       "0       0            1             1        1        1          1      1   \n",
       "1       0            1             1        1        1          1      1   \n",
       "2       0            1             1        1        1          1      1   \n",
       "3       0            1             1        1        1          1      1   \n",
       "4       0            1             1        1        1          1      1   \n",
       "\n",
       "   Semester  Relation  raisedhands  VisITedResources  AnnouncementsView  \\\n",
       "0         1         1           15                16                  2   \n",
       "1         1         1           20                20                  3   \n",
       "2         1         1           10                 7                  0   \n",
       "3         1         1           30                25                  5   \n",
       "4         1         1           40                50                 12   \n",
       "\n",
       "   Discussion  ParentAnsweringSurvey  ParentschoolSatisfaction  \\\n",
       "0          20                      1                         1   \n",
       "1          25                      1                         1   \n",
       "2          30                      0                         0   \n",
       "3          35                      0                         0   \n",
       "4          50                      0                         0   \n",
       "\n",
       "   StudentAbsenceDays Class  \n",
       "0                   0     M  \n",
       "1                   0     M  \n",
       "2                   1     L  \n",
       "3                   1     L  \n",
       "4                   1     M  "
      ]
     },
     "execution_count": 41,
     "metadata": {},
     "output_type": "execute_result"
    }
   ],
   "source": [
    "data.head()"
   ]
  },
  {
   "cell_type": "code",
   "execution_count": 42,
   "id": "97c3f1e4",
   "metadata": {},
   "outputs": [
    {
     "data": {
      "text/plain": [
       "array(['M', 'L', 'H'], dtype=object)"
      ]
     },
     "execution_count": 42,
     "metadata": {},
     "output_type": "execute_result"
    }
   ],
   "source": [
    "data.Class.unique()"
   ]
  },
  {
   "cell_type": "code",
   "execution_count": 43,
   "id": "d38bc50e",
   "metadata": {},
   "outputs": [
    {
     "data": {
      "image/png": "[encoded data removed]",
      "text/plain": [
       "<Figure size 3600x1200 with 1 Axes>"
      ]
     },
     "metadata": {
      "needs_background": "light"
     },
     "output_type": "display_data"
    }
   ],
   "source": [
    "plt.figure(figsize=(12,4), dpi = 300)\n",
    "sns.countplot(x = 'Class', data = data, palette=\"Set3\")\n",
    "plt.xticks(rotation = 0)\n",
    "plt.show()"
   ]
  },
  {
   "cell_type": "markdown",
   "id": "ce3e846d",
   "metadata": {},
   "source": [
    "#### Low-Level: interval includes values from 0 to 69,\n",
    "\n",
    "#### Middle-Level: interval includes values from 70 to 89,\n",
    "\n",
    "#### High-Level: interval includes values from 90-100."
   ]
  },
  {
   "cell_type": "code",
   "execution_count": 44,
   "id": "45fe2f2a",
   "metadata": {},
   "outputs": [
    {
     "data": {
      "text/plain": [
       "<AxesSubplot:>"
      ]
     },
     "execution_count": 44,
     "metadata": {},
     "output_type": "execute_result"
    },
    {
     "data": {
      "image/png": "[encoded data removed]",
      "text/plain": [
       "<Figure size 720x720 with 2 Axes>"
      ]
     },
     "metadata": {
      "needs_background": "light"
     },
     "output_type": "display_data"
    }
   ],
   "source": [
    "plt.figure(figsize=(10,10))\n",
    "sns.heatmap(data.corr())"
   ]
  },
  {
   "cell_type": "code",
   "execution_count": 45,
   "id": "ee0d772d",
   "metadata": {},
   "outputs": [
    {
     "data": {
      "text/html": [
       "<div>\n",
       "<style scoped>\n",
       "    .dataframe tbody tr th:only-of-type {\n",
       "        vertical-align: middle;\n",
       "    }\n",
       "\n",
       "    .dataframe tbody tr th {\n",
       "        vertical-align: top;\n",
       "    }\n",
       "\n",
       "    .dataframe thead th {\n",
       "        text-align: right;\n",
       "    }\n",
       "</style>\n",
       "<table border=\"1\" class=\"dataframe\">\n",
       "  <thead>\n",
       "    <tr style=\"text-align: right;\">\n",
       "      <th></th>\n",
       "      <th>gender</th>\n",
       "      <th>NationalITy</th>\n",
       "      <th>PlaceofBirth</th>\n",
       "      <th>StageID</th>\n",
       "      <th>GradeID</th>\n",
       "      <th>SectionID</th>\n",
       "      <th>Topic</th>\n",
       "      <th>Semester</th>\n",
       "      <th>Relation</th>\n",
       "      <th>raisedhands</th>\n",
       "      <th>VisITedResources</th>\n",
       "      <th>AnnouncementsView</th>\n",
       "      <th>Discussion</th>\n",
       "      <th>ParentAnsweringSurvey</th>\n",
       "      <th>ParentschoolSatisfaction</th>\n",
       "      <th>StudentAbsenceDays</th>\n",
       "    </tr>\n",
       "  </thead>\n",
       "  <tbody>\n",
       "    <tr>\n",
       "      <th>gender</th>\n",
       "      <td>1.000000</td>\n",
       "      <td>-0.008116</td>\n",
       "      <td>-0.008116</td>\n",
       "      <td>-0.017793</td>\n",
       "      <td>-0.017793</td>\n",
       "      <td>-0.054907</td>\n",
       "      <td>0.071017</td>\n",
       "      <td>-0.049156</td>\n",
       "      <td>0.195142</td>\n",
       "      <td>0.149978</td>\n",
       "      <td>0.210932</td>\n",
       "      <td>0.052139</td>\n",
       "      <td>0.124703</td>\n",
       "      <td>0.022359</td>\n",
       "      <td>0.093478</td>\n",
       "      <td>-0.209011</td>\n",
       "    </tr>\n",
       "    <tr>\n",
       "      <th>NationalITy</th>\n",
       "      <td>-0.008116</td>\n",
       "      <td>1.000000</td>\n",
       "      <td>1.000000</td>\n",
       "      <td>-0.084926</td>\n",
       "      <td>-0.084926</td>\n",
       "      <td>-0.122099</td>\n",
       "      <td>0.463798</td>\n",
       "      <td>0.118477</td>\n",
       "      <td>0.213616</td>\n",
       "      <td>0.283838</td>\n",
       "      <td>0.292869</td>\n",
       "      <td>0.298792</td>\n",
       "      <td>0.001144</td>\n",
       "      <td>0.064723</td>\n",
       "      <td>0.261299</td>\n",
       "      <td>-0.080756</td>\n",
       "    </tr>\n",
       "    <tr>\n",
       "      <th>PlaceofBirth</th>\n",
       "      <td>-0.008116</td>\n",
       "      <td>1.000000</td>\n",
       "      <td>1.000000</td>\n",
       "      <td>-0.084926</td>\n",
       "      <td>-0.084926</td>\n",
       "      <td>-0.122099</td>\n",
       "      <td>0.463798</td>\n",
       "      <td>0.118477</td>\n",
       "      <td>0.213616</td>\n",
       "      <td>0.283838</td>\n",
       "      <td>0.292869</td>\n",
       "      <td>0.298792</td>\n",
       "      <td>0.001144</td>\n",
       "      <td>0.064723</td>\n",
       "      <td>0.261299</td>\n",
       "      <td>-0.080756</td>\n",
       "    </tr>\n",
       "    <tr>\n",
       "      <th>StageID</th>\n",
       "      <td>-0.017793</td>\n",
       "      <td>-0.084926</td>\n",
       "      <td>-0.084926</td>\n",
       "      <td>1.000000</td>\n",
       "      <td>1.000000</td>\n",
       "      <td>-0.296416</td>\n",
       "      <td>0.148853</td>\n",
       "      <td>0.029512</td>\n",
       "      <td>-0.034205</td>\n",
       "      <td>0.172751</td>\n",
       "      <td>0.068621</td>\n",
       "      <td>0.163666</td>\n",
       "      <td>0.161406</td>\n",
       "      <td>0.114025</td>\n",
       "      <td>-0.014272</td>\n",
       "      <td>-0.112536</td>\n",
       "    </tr>\n",
       "    <tr>\n",
       "      <th>GradeID</th>\n",
       "      <td>-0.017793</td>\n",
       "      <td>-0.084926</td>\n",
       "      <td>-0.084926</td>\n",
       "      <td>1.000000</td>\n",
       "      <td>1.000000</td>\n",
       "      <td>-0.296416</td>\n",
       "      <td>0.148853</td>\n",
       "      <td>0.029512</td>\n",
       "      <td>-0.034205</td>\n",
       "      <td>0.172751</td>\n",
       "      <td>0.068621</td>\n",
       "      <td>0.163666</td>\n",
       "      <td>0.161406</td>\n",
       "      <td>0.114025</td>\n",
       "      <td>-0.014272</td>\n",
       "      <td>-0.112536</td>\n",
       "    </tr>\n",
       "    <tr>\n",
       "      <th>SectionID</th>\n",
       "      <td>-0.054907</td>\n",
       "      <td>-0.122099</td>\n",
       "      <td>-0.122099</td>\n",
       "      <td>-0.296416</td>\n",
       "      <td>-0.296416</td>\n",
       "      <td>1.000000</td>\n",
       "      <td>-0.224213</td>\n",
       "      <td>0.046763</td>\n",
       "      <td>0.005783</td>\n",
       "      <td>-0.143862</td>\n",
       "      <td>-0.080909</td>\n",
       "      <td>-0.144955</td>\n",
       "      <td>-0.102538</td>\n",
       "      <td>-0.018449</td>\n",
       "      <td>-0.070405</td>\n",
       "      <td>-0.037062</td>\n",
       "    </tr>\n",
       "    <tr>\n",
       "      <th>Topic</th>\n",
       "      <td>0.071017</td>\n",
       "      <td>0.463798</td>\n",
       "      <td>0.463798</td>\n",
       "      <td>0.148853</td>\n",
       "      <td>0.148853</td>\n",
       "      <td>-0.224213</td>\n",
       "      <td>1.000000</td>\n",
       "      <td>0.279511</td>\n",
       "      <td>0.241447</td>\n",
       "      <td>0.304377</td>\n",
       "      <td>0.378792</td>\n",
       "      <td>0.334392</td>\n",
       "      <td>-0.023449</td>\n",
       "      <td>0.054063</td>\n",
       "      <td>0.165179</td>\n",
       "      <td>-0.098395</td>\n",
       "    </tr>\n",
       "    <tr>\n",
       "      <th>Semester</th>\n",
       "      <td>-0.049156</td>\n",
       "      <td>0.118477</td>\n",
       "      <td>0.118477</td>\n",
       "      <td>0.029512</td>\n",
       "      <td>0.029512</td>\n",
       "      <td>0.046763</td>\n",
       "      <td>0.279511</td>\n",
       "      <td>1.000000</td>\n",
       "      <td>0.148705</td>\n",
       "      <td>0.178358</td>\n",
       "      <td>0.173219</td>\n",
       "      <td>0.287066</td>\n",
       "      <td>0.019083</td>\n",
       "      <td>0.023628</td>\n",
       "      <td>-0.025258</td>\n",
       "      <td>-0.072462</td>\n",
       "    </tr>\n",
       "    <tr>\n",
       "      <th>Relation</th>\n",
       "      <td>0.195142</td>\n",
       "      <td>0.213616</td>\n",
       "      <td>0.213616</td>\n",
       "      <td>-0.034205</td>\n",
       "      <td>-0.034205</td>\n",
       "      <td>0.005783</td>\n",
       "      <td>0.241447</td>\n",
       "      <td>0.148705</td>\n",
       "      <td>1.000000</td>\n",
       "      <td>0.364237</td>\n",
       "      <td>0.360240</td>\n",
       "      <td>0.339505</td>\n",
       "      <td>0.026720</td>\n",
       "      <td>0.163811</td>\n",
       "      <td>0.287698</td>\n",
       "      <td>-0.219687</td>\n",
       "    </tr>\n",
       "    <tr>\n",
       "      <th>raisedhands</th>\n",
       "      <td>0.149978</td>\n",
       "      <td>0.283838</td>\n",
       "      <td>0.283838</td>\n",
       "      <td>0.172751</td>\n",
       "      <td>0.172751</td>\n",
       "      <td>-0.143862</td>\n",
       "      <td>0.304377</td>\n",
       "      <td>0.178358</td>\n",
       "      <td>0.364237</td>\n",
       "      <td>1.000000</td>\n",
       "      <td>0.691572</td>\n",
       "      <td>0.643918</td>\n",
       "      <td>0.339386</td>\n",
       "      <td>0.316570</td>\n",
       "      <td>0.297015</td>\n",
       "      <td>-0.463882</td>\n",
       "    </tr>\n",
       "    <tr>\n",
       "      <th>VisITedResources</th>\n",
       "      <td>0.210932</td>\n",
       "      <td>0.292869</td>\n",
       "      <td>0.292869</td>\n",
       "      <td>0.068621</td>\n",
       "      <td>0.068621</td>\n",
       "      <td>-0.080909</td>\n",
       "      <td>0.378792</td>\n",
       "      <td>0.173219</td>\n",
       "      <td>0.360240</td>\n",
       "      <td>0.691572</td>\n",
       "      <td>1.000000</td>\n",
       "      <td>0.594500</td>\n",
       "      <td>0.243292</td>\n",
       "      <td>0.382472</td>\n",
       "      <td>0.363835</td>\n",
       "      <td>-0.499030</td>\n",
       "    </tr>\n",
       "    <tr>\n",
       "      <th>AnnouncementsView</th>\n",
       "      <td>0.052139</td>\n",
       "      <td>0.298792</td>\n",
       "      <td>0.298792</td>\n",
       "      <td>0.163666</td>\n",
       "      <td>0.163666</td>\n",
       "      <td>-0.144955</td>\n",
       "      <td>0.334392</td>\n",
       "      <td>0.287066</td>\n",
       "      <td>0.339505</td>\n",
       "      <td>0.643918</td>\n",
       "      <td>0.594500</td>\n",
       "      <td>1.000000</td>\n",
       "      <td>0.417290</td>\n",
       "      <td>0.396357</td>\n",
       "      <td>0.298744</td>\n",
       "      <td>-0.312134</td>\n",
       "    </tr>\n",
       "    <tr>\n",
       "      <th>Discussion</th>\n",
       "      <td>0.124703</td>\n",
       "      <td>0.001144</td>\n",
       "      <td>0.001144</td>\n",
       "      <td>0.161406</td>\n",
       "      <td>0.161406</td>\n",
       "      <td>-0.102538</td>\n",
       "      <td>-0.023449</td>\n",
       "      <td>0.019083</td>\n",
       "      <td>0.026720</td>\n",
       "      <td>0.339386</td>\n",
       "      <td>0.243292</td>\n",
       "      <td>0.417290</td>\n",
       "      <td>1.000000</td>\n",
       "      <td>0.232197</td>\n",
       "      <td>0.061104</td>\n",
       "      <td>-0.218778</td>\n",
       "    </tr>\n",
       "    <tr>\n",
       "      <th>ParentAnsweringSurvey</th>\n",
       "      <td>0.022359</td>\n",
       "      <td>0.064723</td>\n",
       "      <td>0.064723</td>\n",
       "      <td>0.114025</td>\n",
       "      <td>0.114025</td>\n",
       "      <td>-0.018449</td>\n",
       "      <td>0.054063</td>\n",
       "      <td>0.023628</td>\n",
       "      <td>0.163811</td>\n",
       "      <td>0.316570</td>\n",
       "      <td>0.382472</td>\n",
       "      <td>0.396357</td>\n",
       "      <td>0.232197</td>\n",
       "      <td>1.000000</td>\n",
       "      <td>0.539875</td>\n",
       "      <td>-0.261152</td>\n",
       "    </tr>\n",
       "    <tr>\n",
       "      <th>ParentschoolSatisfaction</th>\n",
       "      <td>0.093478</td>\n",
       "      <td>0.261299</td>\n",
       "      <td>0.261299</td>\n",
       "      <td>-0.014272</td>\n",
       "      <td>-0.014272</td>\n",
       "      <td>-0.070405</td>\n",
       "      <td>0.165179</td>\n",
       "      <td>-0.025258</td>\n",
       "      <td>0.287698</td>\n",
       "      <td>0.297015</td>\n",
       "      <td>0.363835</td>\n",
       "      <td>0.298744</td>\n",
       "      <td>0.061104</td>\n",
       "      <td>0.539875</td>\n",
       "      <td>1.000000</td>\n",
       "      <td>-0.228385</td>\n",
       "    </tr>\n",
       "    <tr>\n",
       "      <th>StudentAbsenceDays</th>\n",
       "      <td>-0.209011</td>\n",
       "      <td>-0.080756</td>\n",
       "      <td>-0.080756</td>\n",
       "      <td>-0.112536</td>\n",
       "      <td>-0.112536</td>\n",
       "      <td>-0.037062</td>\n",
       "      <td>-0.098395</td>\n",
       "      <td>-0.072462</td>\n",
       "      <td>-0.219687</td>\n",
       "      <td>-0.463882</td>\n",
       "      <td>-0.499030</td>\n",
       "      <td>-0.312134</td>\n",
       "      <td>-0.218778</td>\n",
       "      <td>-0.261152</td>\n",
       "      <td>-0.228385</td>\n",
       "      <td>1.000000</td>\n",
       "    </tr>\n",
       "  </tbody>\n",
       "</table>\n",
       "</div>"
      ],
      "text/plain": [
       "                            gender  NationalITy  PlaceofBirth   StageID  \\\n",
       "gender                    1.000000    -0.008116     -0.008116 -0.017793   \n",
       "NationalITy              -0.008116     1.000000      1.000000 -0.084926   \n",
       "PlaceofBirth             -0.008116     1.000000      1.000000 -0.084926   \n",
       "StageID                  -0.017793    -0.084926     -0.084926  1.000000   \n",
       "GradeID                  -0.017793    -0.084926     -0.084926  1.000000   \n",
       "SectionID                -0.054907    -0.122099     -0.122099 -0.296416   \n",
       "Topic                     0.071017     0.463798      0.463798  0.148853   \n",
       "Semester                 -0.049156     0.118477      0.118477  0.029512   \n",
       "Relation                  0.195142     0.213616      0.213616 -0.034205   \n",
       "raisedhands               0.149978     0.283838      0.283838  0.172751   \n",
       "VisITedResources          0.210932     0.292869      0.292869  0.068621   \n",
       "AnnouncementsView         0.052139     0.298792      0.298792  0.163666   \n",
       "Discussion                0.124703     0.001144      0.001144  0.161406   \n",
       "ParentAnsweringSurvey     0.022359     0.064723      0.064723  0.114025   \n",
       "ParentschoolSatisfaction  0.093478     0.261299      0.261299 -0.014272   \n",
       "StudentAbsenceDays       -0.209011    -0.080756     -0.080756 -0.112536   \n",
       "\n",
       "                           GradeID  SectionID     Topic  Semester  Relation  \\\n",
       "gender                   -0.017793  -0.054907  0.071017 -0.049156  0.195142   \n",
       "NationalITy              -0.084926  -0.122099  0.463798  0.118477  0.213616   \n",
       "PlaceofBirth             -0.084926  -0.122099  0.463798  0.118477  0.213616   \n",
       "StageID                   1.000000  -0.296416  0.148853  0.029512 -0.034205   \n",
       "GradeID                   1.000000  -0.296416  0.148853  0.029512 -0.034205   \n",
       "SectionID                -0.296416   1.000000 -0.224213  0.046763  0.005783   \n",
       "Topic                     0.148853  -0.224213  1.000000  0.279511  0.241447   \n",
       "Semester                  0.029512   0.046763  0.279511  1.000000  0.148705   \n",
       "Relation                 -0.034205   0.005783  0.241447  0.148705  1.000000   \n",
       "raisedhands               0.172751  -0.143862  0.304377  0.178358  0.364237   \n",
       "VisITedResources          0.068621  -0.080909  0.378792  0.173219  0.360240   \n",
       "AnnouncementsView         0.163666  -0.144955  0.334392  0.287066  0.339505   \n",
       "Discussion                0.161406  -0.102538 -0.023449  0.019083  0.026720   \n",
       "ParentAnsweringSurvey     0.114025  -0.018449  0.054063  0.023628  0.163811   \n",
       "ParentschoolSatisfaction -0.014272  -0.070405  0.165179 -0.025258  0.287698   \n",
       "StudentAbsenceDays       -0.112536  -0.037062 -0.098395 -0.072462 -0.219687   \n",
       "\n",
       "                          raisedhands  VisITedResources  AnnouncementsView  \\\n",
       "gender                       0.149978          0.210932           0.052139   \n",
       "NationalITy                  0.283838          0.292869           0.298792   \n",
       "PlaceofBirth                 0.283838          0.292869           0.298792   \n",
       "StageID                      0.172751          0.068621           0.163666   \n",
       "GradeID                      0.172751          0.068621           0.163666   \n",
       "SectionID                   -0.143862         -0.080909          -0.144955   \n",
       "Topic                        0.304377          0.378792           0.334392   \n",
       "Semester                     0.178358          0.173219           0.287066   \n",
       "Relation                     0.364237          0.360240           0.339505   \n",
       "raisedhands                  1.000000          0.691572           0.643918   \n",
       "VisITedResources             0.691572          1.000000           0.594500   \n",
       "AnnouncementsView            0.643918          0.594500           1.000000   \n",
       "Discussion                   0.339386          0.243292           0.417290   \n",
       "ParentAnsweringSurvey        0.316570          0.382472           0.396357   \n",
       "ParentschoolSatisfaction     0.297015          0.363835           0.298744   \n",
       "StudentAbsenceDays          -0.463882         -0.499030          -0.312134   \n",
       "\n",
       "                          Discussion  ParentAnsweringSurvey  \\\n",
       "gender                      0.124703               0.022359   \n",
       "NationalITy                 0.001144               0.064723   \n",
       "PlaceofBirth                0.001144               0.064723   \n",
       "StageID                     0.161406               0.114025   \n",
       "GradeID                     0.161406               0.114025   \n",
       "SectionID                  -0.102538              -0.018449   \n",
       "Topic                      -0.023449               0.054063   \n",
       "Semester                    0.019083               0.023628   \n",
       "Relation                    0.026720               0.163811   \n",
       "raisedhands                 0.339386               0.316570   \n",
       "VisITedResources            0.243292               0.382472   \n",
       "AnnouncementsView           0.417290               0.396357   \n",
       "Discussion                  1.000000               0.232197   \n",
       "ParentAnsweringSurvey       0.232197               1.000000   \n",
       "ParentschoolSatisfaction    0.061104               0.539875   \n",
       "StudentAbsenceDays         -0.218778              -0.261152   \n",
       "\n",
       "                          ParentschoolSatisfaction  StudentAbsenceDays  \n",
       "gender                                    0.093478           -0.209011  \n",
       "NationalITy                               0.261299           -0.080756  \n",
       "PlaceofBirth                              0.261299           -0.080756  \n",
       "StageID                                  -0.014272           -0.112536  \n",
       "GradeID                                  -0.014272           -0.112536  \n",
       "SectionID                                -0.070405           -0.037062  \n",
       "Topic                                     0.165179           -0.098395  \n",
       "Semester                                 -0.025258           -0.072462  \n",
       "Relation                                  0.287698           -0.219687  \n",
       "raisedhands                               0.297015           -0.463882  \n",
       "VisITedResources                          0.363835           -0.499030  \n",
       "AnnouncementsView                         0.298744           -0.312134  \n",
       "Discussion                                0.061104           -0.218778  \n",
       "ParentAnsweringSurvey                     0.539875           -0.261152  \n",
       "ParentschoolSatisfaction                  1.000000           -0.228385  \n",
       "StudentAbsenceDays                       -0.228385            1.000000  "
      ]
     },
     "execution_count": 45,
     "metadata": {},
     "output_type": "execute_result"
    }
   ],
   "source": [
    "data.corr()"
   ]
  },
  {
   "cell_type": "markdown",
   "id": "0b240243",
   "metadata": {},
   "source": [
    "### Logistic Regression"
   ]
  },
  {
   "cell_type": "code",
   "execution_count": 46,
   "id": "0d9bb145",
   "metadata": {},
   "outputs": [],
   "source": [
    "from sklearn.linear_model import LogisticRegression\n",
    "log_reg = LogisticRegression()"
   ]
  },
  {
   "cell_type": "code",
   "execution_count": 47,
   "id": "24e7d0b0",
   "metadata": {},
   "outputs": [],
   "source": [
    "from sklearn.model_selection import train_test_split\n",
    "y = data['Class']\n",
    "X = data.drop(columns=['Class'], axis=1)\n",
    "X_train, X_test, y_train, y_test =  train_test_split(X, y, test_size=0.30, random_state=111)"
   ]
  },
  {
   "cell_type": "code",
   "execution_count": 48,
   "id": "96fdec87",
   "metadata": {},
   "outputs": [
    {
     "name": "stdout",
     "output_type": "stream",
     "text": [
      "Accuracy Score: 73.21%\n",
      "_______________________________________________\n",
      "Classification Results:\n",
      "              precision    recall  f1-score   support\n",
      "\n",
      "           H       0.71      0.66      0.68        99\n",
      "           L       0.82      0.85      0.84        93\n",
      "           M       0.69      0.71      0.70       144\n",
      "\n",
      "    accuracy                           0.73       336\n",
      "   macro avg       0.74      0.74      0.74       336\n",
      "weighted avg       0.73      0.73      0.73       336\n",
      "\n",
      "_______________________________________________\n",
      "Confusion Matrix : \n",
      " [[ 65   1  33]\n",
      " [  1  79  13]\n",
      " [ 26  16 102]]\n",
      "\n"
     ]
    }
   ],
   "source": [
    "log_reg.fit(X_train,y_train)\n",
    "pred = log_reg.predict(X_train)\n",
    "print(f\"Accuracy Score: {accuracy_score(y_train, pred) * 100:.2f}%\")\n",
    "print(\"_______________________________________________\")\n",
    "print(f\"Classification Results:\\n{classification_report(y_train, pred)}\")\n",
    "print(\"_______________________________________________\")\n",
    "print(f\"Confusion Matrix : \\n {confusion_matrix(y_train, pred)}\\n\")"
   ]
  },
  {
   "cell_type": "markdown",
   "id": "b84a1af2",
   "metadata": {},
   "source": [
    "#### Let's change the test-training ratios."
   ]
  },
  {
   "cell_type": "code",
   "execution_count": 49,
   "id": "3e96db39",
   "metadata": {},
   "outputs": [],
   "source": [
    "y = data['Class']\n",
    "X = data.drop(columns=['Class'], axis=1)\n",
    "X_train, X_test, y_train, y_test =  train_test_split(X, y, test_size=0.20, random_state=111)"
   ]
  },
  {
   "cell_type": "code",
   "execution_count": 50,
   "id": "dd5a8143",
   "metadata": {},
   "outputs": [
    {
     "name": "stdout",
     "output_type": "stream",
     "text": [
      "Accuracy Score: 72.14%\n",
      "_______________________________________________\n",
      "Classification Results:\n",
      "              precision    recall  f1-score   support\n",
      "\n",
      "           H       0.67      0.69      0.68       112\n",
      "           L       0.81      0.87      0.84       107\n",
      "           M       0.69      0.65      0.67       165\n",
      "\n",
      "    accuracy                           0.72       384\n",
      "   macro avg       0.72      0.74      0.73       384\n",
      "weighted avg       0.72      0.72      0.72       384\n",
      "\n",
      "_______________________________________________\n",
      "Confusion Matrix : \n",
      " [[ 77   1  34]\n",
      " [  1  93  13]\n",
      " [ 37  21 107]]\n",
      "\n"
     ]
    }
   ],
   "source": [
    "log_reg.fit(X_train,y_train)\n",
    "pred = log_reg.predict(X_train)\n",
    "print(f\"Accuracy Score: {accuracy_score(y_train, pred) * 100:.2f}%\")\n",
    "print(\"_______________________________________________\")\n",
    "print(f\"Classification Results:\\n{classification_report(y_train, pred)}\")\n",
    "print(\"_______________________________________________\")\n",
    "print(f\"Confusion Matrix : \\n {confusion_matrix(y_train, pred)}\\n\")"
   ]
  },
  {
   "cell_type": "markdown",
   "id": "1f3ad781",
   "metadata": {},
   "source": [
    "#### Accuracy, precision and recall values decreased overall."
   ]
  },
  {
   "cell_type": "markdown",
   "id": "e29b1ab4",
   "metadata": {},
   "source": [
    "#### Let's try 75% training and 25% testing."
   ]
  },
  {
   "cell_type": "code",
   "execution_count": 51,
   "id": "37e717c5",
   "metadata": {},
   "outputs": [],
   "source": [
    "y = data['Class']\n",
    "X = data.drop(columns=['Class'], axis=1)\n",
    "X_train, X_test, y_train, y_test =  train_test_split(X, y, test_size=0.25, random_state=111)"
   ]
  },
  {
   "cell_type": "code",
   "execution_count": 52,
   "id": "97e9393d",
   "metadata": {},
   "outputs": [
    {
     "name": "stdout",
     "output_type": "stream",
     "text": [
      "Accuracy Score: 73.33%\n",
      "_______________________________________________\n",
      "Classification Results:\n",
      "              precision    recall  f1-score   support\n",
      "\n",
      "           H       0.71      0.67      0.69       104\n",
      "           L       0.81      0.85      0.83       100\n",
      "           M       0.70      0.70      0.70       156\n",
      "\n",
      "    accuracy                           0.73       360\n",
      "   macro avg       0.74      0.74      0.74       360\n",
      "weighted avg       0.73      0.73      0.73       360\n",
      "\n",
      "_______________________________________________\n",
      "Confusion Matrix : \n",
      " [[ 70   1  33]\n",
      " [  1  85  14]\n",
      " [ 28  19 109]]\n",
      "\n"
     ]
    }
   ],
   "source": [
    "log_reg.fit(X_train,y_train)\n",
    "pred = log_reg.predict(X_train)\n",
    "print(f\"Accuracy Score: {accuracy_score(y_train, pred) * 100:.2f}%\")\n",
    "print(\"_______________________________________________\")\n",
    "print(f\"Classification Results:\\n{classification_report(y_train, pred)}\")\n",
    "print(\"_______________________________________________\")\n",
    "print(f\"Confusion Matrix : \\n {confusion_matrix(y_train, pred)}\\n\")"
   ]
  },
  {
   "cell_type": "markdown",
   "id": "60366416",
   "metadata": {},
   "source": [
    "#### The 80/20 and 75/25 models performed almost identically. We can use whatever we want."
   ]
  },
  {
   "cell_type": "markdown",
   "id": "5ac61f56",
   "metadata": {},
   "source": [
    "### Naive Bayes"
   ]
  },
  {
   "cell_type": "code",
   "execution_count": 53,
   "id": "7977f4d6",
   "metadata": {},
   "outputs": [],
   "source": [
    "X=data.drop('Class',axis=1)\n",
    "y=data[\"Class\"]\n",
    "X_train,X_test,y_train,y_test=train_test_split(X,y,test_size=0.3,random_state=0)"
   ]
  },
  {
   "cell_type": "code",
   "execution_count": 54,
   "id": "e39863b0",
   "metadata": {},
   "outputs": [
    {
     "data": {
      "text/plain": [
       "GaussianNB()"
      ]
     },
     "execution_count": 54,
     "metadata": {},
     "output_type": "execute_result"
    }
   ],
   "source": [
    "from sklearn.naive_bayes import GaussianNB\n",
    "gauss=GaussianNB()\n",
    "gauss.fit(X_train,y_train)"
   ]
  },
  {
   "cell_type": "code",
   "execution_count": 55,
   "id": "943ed938",
   "metadata": {},
   "outputs": [],
   "source": [
    "y_pred = gauss.predict(X_test)"
   ]
  },
  {
   "cell_type": "code",
   "execution_count": 56,
   "id": "485fdfca",
   "metadata": {},
   "outputs": [
    {
     "name": "stdout",
     "output_type": "stream",
     "text": [
      "Train Result:\n",
      "\n",
      "Accuracy Score: 71.53%\n",
      "_______________________________________________\n",
      "Classification Results:\n",
      "              precision    recall  f1-score   support\n",
      "\n",
      "           H       0.61      0.79      0.69        39\n",
      "           L       0.74      0.94      0.83        34\n",
      "           M       0.80      0.56      0.66        71\n",
      "\n",
      "    accuracy                           0.72       144\n",
      "   macro avg       0.72      0.77      0.73       144\n",
      "weighted avg       0.73      0.72      0.71       144\n",
      "\n",
      "_______________________________________________\n",
      "Confusion Matrix: \n",
      " [[31  0  8]\n",
      " [ 0 32  2]\n",
      " [20 11 40]]\n",
      "\n"
     ]
    }
   ],
   "source": [
    "print(\"Train Result:\\n\")\n",
    "print(f\"Accuracy Score: {accuracy_score(y_test, y_pred) * 100:.2f}%\")\n",
    "print(\"_______________________________________________\")\n",
    "print(f\"Classification Results:\\n{classification_report(y_test, y_pred)}\")\n",
    "print(\"_______________________________________________\")\n",
    "print(f\"Confusion Matrix: \\n {confusion_matrix(y_test, y_pred)}\\n\")"
   ]
  },
  {
   "cell_type": "markdown",
   "id": "c1afa991",
   "metadata": {},
   "source": [
    "#### Let's try again by changing the test ratios."
   ]
  },
  {
   "cell_type": "code",
   "execution_count": 57,
   "id": "03005e75",
   "metadata": {},
   "outputs": [],
   "source": [
    "X=data.drop('Class',axis=1)\n",
    "y=data[\"Class\"]\n",
    "X_train,X_test,y_train,y_test=train_test_split(X,y,test_size=0.2,random_state=0)"
   ]
  },
  {
   "cell_type": "code",
   "execution_count": 58,
   "id": "40f999fa",
   "metadata": {},
   "outputs": [
    {
     "data": {
      "text/plain": [
       "GaussianNB()"
      ]
     },
     "execution_count": 58,
     "metadata": {},
     "output_type": "execute_result"
    }
   ],
   "source": [
    "from sklearn.naive_bayes import GaussianNB\n",
    "gauss=GaussianNB()\n",
    "gauss.fit(X_train,y_train)"
   ]
  },
  {
   "cell_type": "code",
   "execution_count": 59,
   "id": "be483c7e",
   "metadata": {},
   "outputs": [],
   "source": [
    "y_pred = gauss.predict(X_test)"
   ]
  },
  {
   "cell_type": "code",
   "execution_count": 60,
   "id": "013def2e",
   "metadata": {},
   "outputs": [
    {
     "name": "stdout",
     "output_type": "stream",
     "text": [
      "Train Result:\n",
      "\n",
      "Accuracy Score: 68.75%\n",
      "_______________________________________________\n",
      "Classification Results:\n",
      "              precision    recall  f1-score   support\n",
      "\n",
      "           H       0.58      0.79      0.67        28\n",
      "           L       0.76      0.96      0.85        23\n",
      "           M       0.76      0.49      0.59        45\n",
      "\n",
      "    accuracy                           0.69        96\n",
      "   macro avg       0.70      0.74      0.70        96\n",
      "weighted avg       0.71      0.69      0.68        96\n",
      "\n",
      "_______________________________________________\n",
      "Confusion Matrix: \n",
      " [[22  0  6]\n",
      " [ 0 22  1]\n",
      " [16  7 22]]\n",
      "\n"
     ]
    }
   ],
   "source": [
    "print(\"Train Result:\\n\")\n",
    "print(f\"Accuracy Score: {accuracy_score(y_test, y_pred) * 100:.2f}%\")\n",
    "print(\"_______________________________________________\")\n",
    "print(f\"Classification Results:\\n{classification_report(y_test, y_pred)}\")\n",
    "print(\"_______________________________________________\")\n",
    "print(f\"Confusion Matrix: \\n {confusion_matrix(y_test, y_pred)}\\n\")"
   ]
  },
  {
   "cell_type": "markdown",
   "id": "d4ebf226",
   "metadata": {},
   "source": [
    "#### Accuracy value decreased."
   ]
  },
  {
   "cell_type": "code",
   "execution_count": 61,
   "id": "9a06701e",
   "metadata": {},
   "outputs": [],
   "source": [
    "X=data.drop('Class',axis=1)\n",
    "y=data[\"Class\"]\n",
    "X_train,X_test,y_train,y_test=train_test_split(X,y,test_size=0.5,random_state=0)"
   ]
  },
  {
   "cell_type": "code",
   "execution_count": 62,
   "id": "e272d1e7",
   "metadata": {},
   "outputs": [
    {
     "data": {
      "text/plain": [
       "GaussianNB()"
      ]
     },
     "execution_count": 62,
     "metadata": {},
     "output_type": "execute_result"
    }
   ],
   "source": [
    "\n",
    "gauss=GaussianNB()\n",
    "gauss.fit(X_train,y_train)"
   ]
  },
  {
   "cell_type": "code",
   "execution_count": 63,
   "id": "7f8b8867",
   "metadata": {},
   "outputs": [],
   "source": [
    "y_pred = gauss.predict(X_test)"
   ]
  },
  {
   "cell_type": "code",
   "execution_count": 64,
   "id": "a2945f52",
   "metadata": {},
   "outputs": [
    {
     "name": "stdout",
     "output_type": "stream",
     "text": [
      "Train Result:\n",
      "\n",
      "Accuracy Score: 71.67%\n",
      "_______________________________________________\n",
      "Classification Results:\n",
      "              precision    recall  f1-score   support\n",
      "\n",
      "           H       0.66      0.76      0.71        68\n",
      "           L       0.74      0.90      0.81        60\n",
      "           M       0.75      0.59      0.66       112\n",
      "\n",
      "    accuracy                           0.72       240\n",
      "   macro avg       0.72      0.75      0.73       240\n",
      "weighted avg       0.72      0.72      0.71       240\n",
      "\n",
      "_______________________________________________\n",
      "Confusion Matrix: \n",
      " [[52  0 16]\n",
      " [ 0 54  6]\n",
      " [27 19 66]]\n",
      "\n"
     ]
    }
   ],
   "source": [
    "print(\"Train Result:\\n\")\n",
    "print(f\"Accuracy Score: {accuracy_score(y_test, y_pred) * 100:.2f}%\")\n",
    "print(\"_______________________________________________\")\n",
    "print(f\"Classification Results:\\n{classification_report(y_test, y_pred)}\")\n",
    "print(\"_______________________________________________\")\n",
    "print(f\"Confusion Matrix: \\n {confusion_matrix(y_test, y_pred)}\\n\")"
   ]
  },
  {
   "cell_type": "markdown",
   "id": "9b3b0ecd",
   "metadata": {},
   "source": [
    "#### When we compared, 70/30 and 50/50 were close to each other. However, recall and precision values were better in the model trained as 70/30."
   ]
  },
  {
   "cell_type": "markdown",
   "id": "de040ce6",
   "metadata": {},
   "source": [
    "### KNN"
   ]
  },
  {
   "cell_type": "code",
   "execution_count": 65,
   "id": "93434723",
   "metadata": {},
   "outputs": [],
   "source": [
    "X=data.drop('Class',axis=1)\n",
    "y=data[\"Class\"]\n",
    "X_train,X_test,y_train,y_test=train_test_split(X,y,test_size=0.3,random_state=0)"
   ]
  },
  {
   "cell_type": "code",
   "execution_count": 66,
   "id": "d24440a6",
   "metadata": {},
   "outputs": [],
   "source": [
    "from sklearn.neighbors import KNeighborsClassifier\n",
    "knn = KNeighborsClassifier()\n",
    "knn.fit(X_train, y_train)\n",
    "knn_predict = knn.predict(X_test)"
   ]
  },
  {
   "cell_type": "code",
   "execution_count": 67,
   "id": "bd9f1df8",
   "metadata": {},
   "outputs": [
    {
     "name": "stdout",
     "output_type": "stream",
     "text": [
      "Train Result:\n",
      "\n",
      "Accuracy Score: 65.28%\n",
      "_______________________________________________\n",
      "Classification Result:\n",
      "              precision    recall  f1-score   support\n",
      "\n",
      "           H       0.55      0.54      0.55        39\n",
      "           L       0.72      0.82      0.77        34\n",
      "           M       0.67      0.63      0.65        71\n",
      "\n",
      "    accuracy                           0.65       144\n",
      "   macro avg       0.65      0.67      0.65       144\n",
      "weighted avg       0.65      0.65      0.65       144\n",
      "\n",
      "_______________________________________________\n",
      "Confusion Matrix: \n",
      " [[21  2 16]\n",
      " [ 0 28  6]\n",
      " [17  9 45]]\n",
      "\n"
     ]
    }
   ],
   "source": [
    "print(\"Train Result:\\n\")\n",
    "print(f\"Accuracy Score: {accuracy_score(y_test, knn_predict) * 100:.2f}%\")\n",
    "print(\"_______________________________________________\")\n",
    "print(f\"Classification Result:\\n{classification_report(y_test, knn_predict)}\")\n",
    "print(\"_______________________________________________\")\n",
    "print(f\"Confusion Matrix: \\n {confusion_matrix(y_test, knn_predict)}\\n\")"
   ]
  },
  {
   "cell_type": "markdown",
   "id": "7f7b2a8b",
   "metadata": {},
   "source": [
    "#### The values are too low."
   ]
  },
  {
   "cell_type": "code",
   "execution_count": 68,
   "id": "320e55be",
   "metadata": {},
   "outputs": [],
   "source": [
    "X=data.drop('Class',axis=1)\n",
    "y=data[\"Class\"]\n",
    "X_train,X_test,y_train,y_test=train_test_split(X,y,test_size=0.2,random_state=0)"
   ]
  },
  {
   "cell_type": "code",
   "execution_count": 69,
   "id": "6868db87",
   "metadata": {},
   "outputs": [],
   "source": [
    "knn = KNeighborsClassifier()\n",
    "knn.fit(X_train, y_train)\n",
    "knn_predict = knn.predict(X_test)"
   ]
  },
  {
   "cell_type": "code",
   "execution_count": 70,
   "id": "d3cd6f47",
   "metadata": {},
   "outputs": [
    {
     "name": "stdout",
     "output_type": "stream",
     "text": [
      "Train Result:\n",
      "\n",
      "Accuracy Score: 68.75%\n",
      "_______________________________________________\n",
      "Classification Result:\n",
      "              precision    recall  f1-score   support\n",
      "\n",
      "           H       0.63      0.61      0.62        28\n",
      "           L       0.75      0.91      0.82        23\n",
      "           M       0.68      0.62      0.65        45\n",
      "\n",
      "    accuracy                           0.69        96\n",
      "   macro avg       0.69      0.71      0.70        96\n",
      "weighted avg       0.68      0.69      0.68        96\n",
      "\n",
      "_______________________________________________\n",
      "Confusion Matrix: \n",
      " [[17  0 11]\n",
      " [ 0 21  2]\n",
      " [10  7 28]]\n",
      "\n"
     ]
    }
   ],
   "source": [
    "print(\"Train Result:\\n\")\n",
    "print(f\"Accuracy Score: {accuracy_score(y_test, knn_predict) * 100:.2f}%\")\n",
    "print(\"_______________________________________________\")\n",
    "print(f\"Classification Result:\\n{classification_report(y_test, knn_predict)}\")\n",
    "print(\"_______________________________________________\")\n",
    "print(f\"Confusion Matrix: \\n {confusion_matrix(y_test, knn_predict)}\\n\")"
   ]
  },
  {
   "cell_type": "markdown",
   "id": "39948209",
   "metadata": {},
   "source": [
    "#### Values increased slightly."
   ]
  },
  {
   "cell_type": "code",
   "execution_count": 71,
   "id": "5f64249a",
   "metadata": {},
   "outputs": [],
   "source": [
    "X=data.drop('Class',axis=1)\n",
    "y=data[\"Class\"]\n",
    "X_train,X_test,y_train,y_test=train_test_split(X,y,test_size=0.5,random_state=0)"
   ]
  },
  {
   "cell_type": "code",
   "execution_count": 72,
   "id": "4febd936",
   "metadata": {},
   "outputs": [],
   "source": [
    "knn = KNeighborsClassifier()\n",
    "knn.fit(X_train, y_train)\n",
    "knn_predict = knn.predict(X_test)"
   ]
  },
  {
   "cell_type": "code",
   "execution_count": 73,
   "id": "12314d6e",
   "metadata": {},
   "outputs": [
    {
     "name": "stdout",
     "output_type": "stream",
     "text": [
      "Train Result:\n",
      "\n",
      "Accuracy Score: 62.50%\n",
      "_______________________________________________\n",
      "Classification Result:\n",
      "              precision    recall  f1-score   support\n",
      "\n",
      "           H       0.60      0.53      0.56        68\n",
      "           L       0.68      0.73      0.70        60\n",
      "           M       0.61      0.62      0.62       112\n",
      "\n",
      "    accuracy                           0.62       240\n",
      "   macro avg       0.63      0.63      0.63       240\n",
      "weighted avg       0.62      0.62      0.62       240\n",
      "\n",
      "_______________________________________________\n",
      "Confusion Matrix: \n",
      " [[36  3 29]\n",
      " [ 0 44 16]\n",
      " [24 18 70]]\n",
      "\n"
     ]
    }
   ],
   "source": [
    "print(\"Train Result:\\n\")\n",
    "print(f\"Accuracy Score: {accuracy_score(y_test, knn_predict) * 100:.2f}%\")\n",
    "print(\"_______________________________________________\")\n",
    "print(f\"Classification Result:\\n{classification_report(y_test, knn_predict)}\")\n",
    "print(\"_______________________________________________\")\n",
    "print(f\"Confusion Matrix: \\n {confusion_matrix(y_test, knn_predict)}\\n\")"
   ]
  },
  {
   "cell_type": "markdown",
   "id": "3769d47b",
   "metadata": {},
   "source": [
    "#### Overall, 80/20 gave the best performance."
   ]
  },
  {
   "cell_type": "markdown",
   "id": "b8378030",
   "metadata": {},
   "source": [
    "### Decision Tree"
   ]
  },
  {
   "cell_type": "code",
   "execution_count": 74,
   "id": "455a5b79",
   "metadata": {},
   "outputs": [],
   "source": [
    "X=data.drop('Class',axis=1)\n",
    "y=data[\"Class\"]"
   ]
  },
  {
   "cell_type": "code",
   "execution_count": 75,
   "id": "9210fa67",
   "metadata": {},
   "outputs": [],
   "source": [
    "X_train,X_test,y_train,y_test=train_test_split(X,y,test_size=0.20,random_state=0)"
   ]
  },
  {
   "cell_type": "code",
   "execution_count": 76,
   "id": "d47c75f4",
   "metadata": {},
   "outputs": [],
   "source": [
    "from sklearn.tree import DecisionTreeClassifier\n",
    "decisiontree=DecisionTreeClassifier().fit(X_train,y_train)   #default criterion=gini"
   ]
  },
  {
   "cell_type": "code",
   "execution_count": 77,
   "id": "72a793ba",
   "metadata": {},
   "outputs": [],
   "source": [
    "decisiontreepredict=decisiontree.predict(X_test)"
   ]
  },
  {
   "cell_type": "code",
   "execution_count": 78,
   "id": "2c2a71ba",
   "metadata": {},
   "outputs": [
    {
     "name": "stdout",
     "output_type": "stream",
     "text": [
      "Train Result:\n",
      "Accuracy Score: 81.25%\n",
      "_______________________________________________\n",
      "Classification Results:\n",
      "              precision    recall  f1-score   support\n",
      "\n",
      "           H       0.75      0.75      0.75        28\n",
      "           L       0.88      0.96      0.92        23\n",
      "           M       0.81      0.78      0.80        45\n",
      "\n",
      "    accuracy                           0.81        96\n",
      "   macro avg       0.81      0.83      0.82        96\n",
      "weighted avg       0.81      0.81      0.81        96\n",
      "\n",
      "_______________________________________________\n",
      "Confusion Matrix: \n",
      " [[21  0  7]\n",
      " [ 0 22  1]\n",
      " [ 7  3 35]]\n",
      "\n"
     ]
    }
   ],
   "source": [
    "print(\"Train Result:\")\n",
    "print(f\"Accuracy Score: {accuracy_score(y_test, decisiontreepredict) * 100:.2f}%\")\n",
    "print(\"_______________________________________________\")\n",
    "print(f\"Classification Results:\\n{classification_report(y_test, decisiontreepredict)}\")\n",
    "print(\"_______________________________________________\")\n",
    "print(f\"Confusion Matrix: \\n {confusion_matrix(y_test, decisiontreepredict)}\\n\")"
   ]
  },
  {
   "cell_type": "markdown",
   "id": "dbb6f517",
   "metadata": {},
   "source": [
    "#### Let's try with criterion=entropy."
   ]
  },
  {
   "cell_type": "code",
   "execution_count": 79,
   "id": "8cf9234e",
   "metadata": {},
   "outputs": [
    {
     "data": {
      "text/plain": [
       "DecisionTreeClassifier(criterion='entropy')"
      ]
     },
     "execution_count": 79,
     "metadata": {},
     "output_type": "execute_result"
    }
   ],
   "source": [
    "X=data.drop('Class',axis=1)\n",
    "y=data[\"Class\"]\n",
    "X_train,X_test,y_train,y_test=train_test_split(X,y,test_size=0.20,random_state=0)\n",
    "DecisionTreeClassifier(criterion=\"entropy\").fit(X_train,y_train)"
   ]
  },
  {
   "cell_type": "code",
   "execution_count": 80,
   "id": "224503cd",
   "metadata": {},
   "outputs": [],
   "source": [
    "decisiontreepredict=decisiontree.predict(X_test)"
   ]
  },
  {
   "cell_type": "code",
   "execution_count": 81,
   "id": "0e9d8d8f",
   "metadata": {},
   "outputs": [
    {
     "name": "stdout",
     "output_type": "stream",
     "text": [
      "Train Result:\n",
      "Accuracy Score: 81.25%\n",
      "_______________________________________________\n",
      "Classification Results:\n",
      "              precision    recall  f1-score   support\n",
      "\n",
      "           H       0.75      0.75      0.75        28\n",
      "           L       0.88      0.96      0.92        23\n",
      "           M       0.81      0.78      0.80        45\n",
      "\n",
      "    accuracy                           0.81        96\n",
      "   macro avg       0.81      0.83      0.82        96\n",
      "weighted avg       0.81      0.81      0.81        96\n",
      "\n",
      "_______________________________________________\n",
      "Confusion Matrix: \n",
      " [[21  0  7]\n",
      " [ 0 22  1]\n",
      " [ 7  3 35]]\n",
      "\n"
     ]
    }
   ],
   "source": [
    "print(\"Train Result:\")\n",
    "print(f\"Accuracy Score: {accuracy_score(y_test, decisiontreepredict) * 100:.2f}%\")\n",
    "print(\"_______________________________________________\")\n",
    "print(f\"Classification Results:\\n{classification_report(y_test, decisiontreepredict)}\")\n",
    "print(\"_______________________________________________\")\n",
    "print(f\"Confusion Matrix: \\n {confusion_matrix(y_test, decisiontreepredict)}\\n\")"
   ]
  },
  {
   "cell_type": "markdown",
   "id": "4ca3e077",
   "metadata": {},
   "source": [
    "#### Let's change min_samples_split. default is 2."
   ]
  },
  {
   "cell_type": "code",
   "execution_count": 82,
   "id": "dd4d15bd",
   "metadata": {},
   "outputs": [
    {
     "data": {
      "text/plain": [
       "DecisionTreeClassifier(criterion='entropy', min_samples_split=4)"
      ]
     },
     "execution_count": 82,
     "metadata": {},
     "output_type": "execute_result"
    }
   ],
   "source": [
    "X=data.drop('Class',axis=1)\n",
    "y=data[\"Class\"]\n",
    "X_train,X_test,y_train,y_test=train_test_split(X,y,test_size=0.20,random_state=0)\n",
    "DecisionTreeClassifier(criterion=\"entropy\",min_samples_split=4).fit(X_train,y_train)"
   ]
  },
  {
   "cell_type": "code",
   "execution_count": 83,
   "id": "7ca93ff5",
   "metadata": {},
   "outputs": [],
   "source": [
    "decisiontreepredict=decisiontree.predict(X_test)"
   ]
  },
  {
   "cell_type": "code",
   "execution_count": 84,
   "id": "443bd500",
   "metadata": {},
   "outputs": [
    {
     "name": "stdout",
     "output_type": "stream",
     "text": [
      "Train Result:\n",
      "Accuracy Score: 81.25%\n",
      "_______________________________________________\n",
      "Classification Results:\n",
      "              precision    recall  f1-score   support\n",
      "\n",
      "           H       0.75      0.75      0.75        28\n",
      "           L       0.88      0.96      0.92        23\n",
      "           M       0.81      0.78      0.80        45\n",
      "\n",
      "    accuracy                           0.81        96\n",
      "   macro avg       0.81      0.83      0.82        96\n",
      "weighted avg       0.81      0.81      0.81        96\n",
      "\n",
      "_______________________________________________\n",
      "Confusion Matrix: \n",
      " [[21  0  7]\n",
      " [ 0 22  1]\n",
      " [ 7  3 35]]\n",
      "\n"
     ]
    }
   ],
   "source": [
    "print(\"Train Result:\")\n",
    "print(f\"Accuracy Score: {accuracy_score(y_test, decisiontreepredict) * 100:.2f}%\")\n",
    "print(\"_______________________________________________\")\n",
    "print(f\"Classification Results:\\n{classification_report(y_test, decisiontreepredict)}\")\n",
    "print(\"_______________________________________________\")\n",
    "print(f\"Confusion Matrix: \\n {confusion_matrix(y_test, decisiontreepredict)}\\n\")"
   ]
  },
  {
   "cell_type": "markdown",
   "id": "524e8d99",
   "metadata": {},
   "source": [
    "#### All values were the same."
   ]
  },
  {
   "cell_type": "code",
   "execution_count": 85,
   "id": "5723ea0e",
   "metadata": {},
   "outputs": [
    {
     "data": {
      "text/plain": [
       "DecisionTreeClassifier(criterion='entropy', min_samples_leaf=4)"
      ]
     },
     "execution_count": 85,
     "metadata": {},
     "output_type": "execute_result"
    }
   ],
   "source": [
    "X=data.drop('Class',axis=1)\n",
    "y=data[\"Class\"]\n",
    "X_train,X_test,y_train,y_test=train_test_split(X,y,test_size=0.20,random_state=0)\n",
    "DecisionTreeClassifier(criterion=\"entropy\",min_samples_leaf=4).fit(X_train,y_train)"
   ]
  },
  {
   "cell_type": "code",
   "execution_count": 86,
   "id": "e19cce98",
   "metadata": {},
   "outputs": [],
   "source": [
    "decisiontreepredict=decisiontree.predict(X_test)"
   ]
  },
  {
   "cell_type": "code",
   "execution_count": 87,
   "id": "5bdb0d33",
   "metadata": {},
   "outputs": [
    {
     "name": "stdout",
     "output_type": "stream",
     "text": [
      "Train Result:\n",
      "Accuracy Score: 81.25%\n",
      "_______________________________________________\n",
      "Classification Results:\n",
      "              precision    recall  f1-score   support\n",
      "\n",
      "           H       0.75      0.75      0.75        28\n",
      "           L       0.88      0.96      0.92        23\n",
      "           M       0.81      0.78      0.80        45\n",
      "\n",
      "    accuracy                           0.81        96\n",
      "   macro avg       0.81      0.83      0.82        96\n",
      "weighted avg       0.81      0.81      0.81        96\n",
      "\n",
      "_______________________________________________\n",
      "Confusion Matrix: \n",
      " [[21  0  7]\n",
      " [ 0 22  1]\n",
      " [ 7  3 35]]\n",
      "\n"
     ]
    }
   ],
   "source": [
    "print(\"Train Result:\")\n",
    "print(f\"Accuracy Score: {accuracy_score(y_test, decisiontreepredict) * 100:.2f}%\")\n",
    "print(\"_______________________________________________\")\n",
    "print(f\"Classification Results:\\n{classification_report(y_test, decisiontreepredict)}\")\n",
    "print(\"_______________________________________________\")\n",
    "print(f\"Confusion Matrix: \\n {confusion_matrix(y_test, decisiontreepredict)}\\n\")"
   ]
  },
  {
   "cell_type": "markdown",
   "id": "159b47be",
   "metadata": {},
   "source": [
    "#### Again,all values were the same."
   ]
  },
  {
   "cell_type": "markdown",
   "id": "14207c31",
   "metadata": {},
   "source": [
    "#### Let's change the test rates."
   ]
  },
  {
   "cell_type": "code",
   "execution_count": 88,
   "id": "ea973529",
   "metadata": {},
   "outputs": [
    {
     "data": {
      "text/plain": [
       "DecisionTreeClassifier(criterion='entropy')"
      ]
     },
     "execution_count": 88,
     "metadata": {},
     "output_type": "execute_result"
    }
   ],
   "source": [
    "X=data.drop('Class',axis=1)\n",
    "y=data[\"Class\"]\n",
    "X_train,X_test,y_train,y_test=train_test_split(X,y,test_size=0.50,random_state=0)\n",
    "DecisionTreeClassifier(criterion=\"entropy\").fit(X_train,y_train)"
   ]
  },
  {
   "cell_type": "code",
   "execution_count": 89,
   "id": "95762259",
   "metadata": {},
   "outputs": [],
   "source": [
    "decisiontreepredict=decisiontree.predict(X_test)"
   ]
  },
  {
   "cell_type": "code",
   "execution_count": 90,
   "id": "58ccb03a",
   "metadata": {},
   "outputs": [
    {
     "name": "stdout",
     "output_type": "stream",
     "text": [
      "Train Result:\n",
      "Accuracy Score: 92.50%\n",
      "_______________________________________________\n",
      "Classification Results:\n",
      "              precision    recall  f1-score   support\n",
      "\n",
      "           H       0.90      0.90      0.90        68\n",
      "           L       0.95      0.98      0.97        60\n",
      "           M       0.93      0.91      0.92       112\n",
      "\n",
      "    accuracy                           0.93       240\n",
      "   macro avg       0.93      0.93      0.93       240\n",
      "weighted avg       0.92      0.93      0.92       240\n",
      "\n",
      "_______________________________________________\n",
      "Confusion Matrix: \n",
      " [[ 61   0   7]\n",
      " [  0  59   1]\n",
      " [  7   3 102]]\n",
      "\n"
     ]
    }
   ],
   "source": [
    "print(\"Train Result:\")\n",
    "print(f\"Accuracy Score: {accuracy_score(y_test, decisiontreepredict) * 100:.2f}%\")\n",
    "print(\"_______________________________________________\")\n",
    "print(f\"Classification Results:\\n{classification_report(y_test, decisiontreepredict)}\")\n",
    "print(\"_______________________________________________\")\n",
    "print(f\"Confusion Matrix: \\n {confusion_matrix(y_test, decisiontreepredict)}\\n\")"
   ]
  },
  {
   "cell_type": "code",
   "execution_count": 91,
   "id": "801238eb",
   "metadata": {},
   "outputs": [],
   "source": [
    "test= y_test.to_numpy()"
   ]
  },
  {
   "cell_type": "code",
   "execution_count": 92,
   "id": "9f323c20",
   "metadata": {},
   "outputs": [
    {
     "data": {
      "text/plain": [
       "array(['M', 'L', 'L', 'M', 'H', 'M', 'H', 'L', 'L', 'M', 'H', 'M', 'M',\n",
       "       'L', 'H', 'M', 'M', 'L', 'M', 'H', 'L', 'M', 'M', 'M', 'M', 'H',\n",
       "       'M', 'M', 'M', 'L', 'M', 'L', 'H', 'M', 'M', 'M', 'H', 'H', 'M',\n",
       "       'M', 'H', 'L', 'M', 'H', 'H', 'M', 'M', 'M', 'M', 'L', 'M', 'H',\n",
       "       'H', 'L', 'H', 'H', 'L', 'L', 'M', 'M', 'M', 'M', 'H', 'H', 'H',\n",
       "       'M', 'M', 'M', 'L', 'L', 'L', 'L', 'M', 'L', 'H', 'M', 'M', 'L',\n",
       "       'M', 'L', 'M', 'M', 'H', 'L', 'L', 'H', 'M', 'H', 'M', 'H', 'M',\n",
       "       'H', 'H', 'H', 'M', 'H', 'L', 'M', 'L', 'H', 'L', 'M', 'M', 'M',\n",
       "       'M', 'H', 'L', 'H', 'L', 'M', 'L', 'L', 'L', 'L', 'M', 'M', 'L',\n",
       "       'H', 'M', 'H', 'M', 'M', 'M', 'M', 'M', 'M', 'M', 'M', 'L', 'M',\n",
       "       'H', 'M', 'H', 'M', 'M', 'H', 'M', 'M', 'M', 'H', 'M', 'M', 'H',\n",
       "       'H', 'H', 'L', 'H', 'L', 'L', 'H', 'M', 'M', 'M', 'M', 'H', 'M',\n",
       "       'L', 'H', 'M', 'L', 'M', 'M', 'L', 'M', 'H', 'M', 'M', 'M', 'M',\n",
       "       'M', 'L', 'M', 'H', 'H', 'L', 'M', 'H', 'M', 'M', 'L', 'H', 'H',\n",
       "       'L', 'M', 'M', 'M', 'M', 'L', 'M', 'L', 'H', 'L', 'L', 'H', 'M',\n",
       "       'H', 'M', 'H', 'H', 'L', 'H', 'L', 'L', 'M', 'H', 'H', 'M', 'H',\n",
       "       'M', 'M', 'M', 'L', 'H', 'H', 'M', 'H', 'L', 'M', 'H', 'M', 'L',\n",
       "       'L', 'H', 'M', 'M', 'L', 'L', 'H', 'H', 'L', 'M', 'M', 'L', 'M',\n",
       "       'H', 'M', 'L', 'H', 'M', 'M'], dtype=object)"
      ]
     },
     "execution_count": 92,
     "metadata": {},
     "output_type": "execute_result"
    }
   ],
   "source": [
    "test"
   ]
  },
  {
   "cell_type": "code",
   "execution_count": 93,
   "id": "e73b95a4",
   "metadata": {},
   "outputs": [],
   "source": [
    "df = pd.DataFrame (test)\n",
    "\n",
    "## save to xlsx file\n",
    "\n",
    "filepath = 'decision_tree_test_file.xlsx'\n",
    "df.to_excel(filepath, index=False)"
   ]
  },
  {
   "cell_type": "code",
   "execution_count": 94,
   "id": "6a1acdd9",
   "metadata": {},
   "outputs": [],
   "source": [
    "df = pd.DataFrame (decisiontreepredict)\n",
    "\n",
    "## save to xlsx file\n",
    "\n",
    "filepath = 'decision_tree_predict_file.xlsx'\n",
    "df.to_excel(filepath, index=False)"
   ]
  },
  {
   "cell_type": "code",
   "execution_count": 95,
   "id": "8bedd1cc",
   "metadata": {},
   "outputs": [],
   "source": [
    "tests = pd. read_excel('decision_tree_test_file.xlsx')\n",
    "predicts=pd.read_excel('decision_tree_predict_file.xlsx')"
   ]
  },
  {
   "cell_type": "code",
   "execution_count": 96,
   "id": "0583f64a",
   "metadata": {},
   "outputs": [],
   "source": [
    "df=tests.merge(predicts)\n",
    "df.to_excel(\"karsilastirma.xlsx\",index=False)"
   ]
  },
  {
   "cell_type": "markdown",
   "id": "433bd8fe",
   "metadata": {},
   "source": [
    "#### Values have increased significantly."
   ]
  },
  {
   "cell_type": "code",
   "execution_count": 97,
   "id": "51dd8527",
   "metadata": {},
   "outputs": [
    {
     "data": {
      "text/plain": [
       "DecisionTreeClassifier(criterion='entropy')"
      ]
     },
     "execution_count": 97,
     "metadata": {},
     "output_type": "execute_result"
    }
   ],
   "source": [
    "X=data.drop('Class',axis=1)\n",
    "y=data[\"Class\"]\n",
    "X_train,X_test,y_train,y_test=train_test_split(X,y,test_size=0.25,random_state=0)\n",
    "DecisionTreeClassifier(criterion=\"entropy\").fit(X_train,y_train)"
   ]
  },
  {
   "cell_type": "code",
   "execution_count": 98,
   "id": "327d08bc",
   "metadata": {},
   "outputs": [],
   "source": [
    "decisiontreepredict=decisiontree.predict(X_test)"
   ]
  },
  {
   "cell_type": "code",
   "execution_count": 99,
   "id": "41e63fed",
   "metadata": {},
   "outputs": [
    {
     "name": "stdout",
     "output_type": "stream",
     "text": [
      "Train Result:\n",
      "Accuracy Score: 85.00%\n",
      "_______________________________________________\n",
      "Classification Results:\n",
      "              precision    recall  f1-score   support\n",
      "\n",
      "           H       0.79      0.79      0.79        33\n",
      "           L       0.91      0.97      0.94        33\n",
      "           M       0.85      0.81      0.83        54\n",
      "\n",
      "    accuracy                           0.85       120\n",
      "   macro avg       0.85      0.86      0.85       120\n",
      "weighted avg       0.85      0.85      0.85       120\n",
      "\n",
      "_______________________________________________\n",
      "Confusion Matrix: \n",
      " [[26  0  7]\n",
      " [ 0 32  1]\n",
      " [ 7  3 44]]\n",
      "\n"
     ]
    }
   ],
   "source": [
    "print(\"Train Result:\")\n",
    "print(f\"Accuracy Score: {accuracy_score(y_test, decisiontreepredict) * 100:.2f}%\")\n",
    "print(\"_______________________________________________\")\n",
    "print(f\"Classification Results:\\n{classification_report(y_test, decisiontreepredict)}\")\n",
    "print(\"_______________________________________________\")\n",
    "print(f\"Confusion Matrix: \\n {confusion_matrix(y_test, decisiontreepredict)}\\n\")"
   ]
  },
  {
   "cell_type": "code",
   "execution_count": 100,
   "id": "92b7bf45",
   "metadata": {},
   "outputs": [
    {
     "data": {
      "text/plain": [
       "DecisionTreeClassifier()"
      ]
     },
     "execution_count": 100,
     "metadata": {},
     "output_type": "execute_result"
    }
   ],
   "source": [
    "X=data.drop('Class',axis=1)\n",
    "y=data[\"Class\"]\n",
    "X_train,X_test,y_train,y_test=train_test_split(X,y,test_size=0.50,random_state=111)\n",
    "DecisionTreeClassifier().fit(X_train,y_train)"
   ]
  },
  {
   "cell_type": "code",
   "execution_count": 101,
   "id": "62b920fe",
   "metadata": {},
   "outputs": [],
   "source": [
    "decisiontreepredict=decisiontree.predict(X_test)"
   ]
  },
  {
   "cell_type": "code",
   "execution_count": 102,
   "id": "8b889457",
   "metadata": {},
   "outputs": [
    {
     "name": "stdout",
     "output_type": "stream",
     "text": [
      "Train Result:\n",
      "Accuracy Score: 97.50%\n",
      "_______________________________________________\n",
      "Classification Results:\n",
      "              precision    recall  f1-score   support\n",
      "\n",
      "           H       0.99      0.94      0.96        70\n",
      "           L       0.98      1.00      0.99        58\n",
      "           M       0.96      0.98      0.97       112\n",
      "\n",
      "    accuracy                           0.97       240\n",
      "   macro avg       0.98      0.97      0.98       240\n",
      "weighted avg       0.98      0.97      0.97       240\n",
      "\n",
      "_______________________________________________\n",
      "Confusion Matrix: \n",
      " [[ 66   0   4]\n",
      " [  0  58   0]\n",
      " [  1   1 110]]\n",
      "\n"
     ]
    }
   ],
   "source": [
    "print(\"Train Result:\")\n",
    "print(f\"Accuracy Score: {accuracy_score(y_test, decisiontreepredict) * 100:.2f}%\")\n",
    "print(\"_______________________________________________\")\n",
    "print(f\"Classification Results:\\n{classification_report(y_test, decisiontreepredict)}\")\n",
    "print(\"_______________________________________________\")\n",
    "print(f\"Confusion Matrix: \\n {confusion_matrix(y_test, decisiontreepredict)}\\n\")"
   ]
  },
  {
   "cell_type": "code",
   "execution_count": 103,
   "id": "42364b26",
   "metadata": {},
   "outputs": [
    {
     "data": {
      "text/html": [
       "<div>\n",
       "<style scoped>\n",
       "    .dataframe tbody tr th:only-of-type {\n",
       "        vertical-align: middle;\n",
       "    }\n",
       "\n",
       "    .dataframe tbody tr th {\n",
       "        vertical-align: top;\n",
       "    }\n",
       "\n",
       "    .dataframe thead th {\n",
       "        text-align: right;\n",
       "    }\n",
       "</style>\n",
       "<table border=\"1\" class=\"dataframe\">\n",
       "  <thead>\n",
       "    <tr style=\"text-align: right;\">\n",
       "      <th></th>\n",
       "      <th>gender</th>\n",
       "      <th>NationalITy</th>\n",
       "      <th>PlaceofBirth</th>\n",
       "      <th>StageID</th>\n",
       "      <th>GradeID</th>\n",
       "      <th>SectionID</th>\n",
       "      <th>Topic</th>\n",
       "      <th>Semester</th>\n",
       "      <th>Relation</th>\n",
       "      <th>raisedhands</th>\n",
       "      <th>VisITedResources</th>\n",
       "      <th>AnnouncementsView</th>\n",
       "      <th>Discussion</th>\n",
       "      <th>ParentAnsweringSurvey</th>\n",
       "      <th>ParentschoolSatisfaction</th>\n",
       "      <th>StudentAbsenceDays</th>\n",
       "    </tr>\n",
       "  </thead>\n",
       "  <tbody>\n",
       "    <tr>\n",
       "      <th>242</th>\n",
       "      <td>0</td>\n",
       "      <td>1</td>\n",
       "      <td>1</td>\n",
       "      <td>2</td>\n",
       "      <td>2</td>\n",
       "      <td>2</td>\n",
       "      <td>4</td>\n",
       "      <td>2</td>\n",
       "      <td>1</td>\n",
       "      <td>22</td>\n",
       "      <td>20</td>\n",
       "      <td>18</td>\n",
       "      <td>6</td>\n",
       "      <td>0</td>\n",
       "      <td>0</td>\n",
       "      <td>1</td>\n",
       "    </tr>\n",
       "    <tr>\n",
       "      <th>405</th>\n",
       "      <td>1</td>\n",
       "      <td>11</td>\n",
       "      <td>11</td>\n",
       "      <td>2</td>\n",
       "      <td>2</td>\n",
       "      <td>1</td>\n",
       "      <td>10</td>\n",
       "      <td>2</td>\n",
       "      <td>2</td>\n",
       "      <td>80</td>\n",
       "      <td>91</td>\n",
       "      <td>87</td>\n",
       "      <td>72</td>\n",
       "      <td>1</td>\n",
       "      <td>1</td>\n",
       "      <td>0</td>\n",
       "    </tr>\n",
       "    <tr>\n",
       "      <th>439</th>\n",
       "      <td>0</td>\n",
       "      <td>6</td>\n",
       "      <td>6</td>\n",
       "      <td>2</td>\n",
       "      <td>2</td>\n",
       "      <td>1</td>\n",
       "      <td>11</td>\n",
       "      <td>2</td>\n",
       "      <td>2</td>\n",
       "      <td>70</td>\n",
       "      <td>82</td>\n",
       "      <td>75</td>\n",
       "      <td>29</td>\n",
       "      <td>1</td>\n",
       "      <td>1</td>\n",
       "      <td>0</td>\n",
       "    </tr>\n",
       "    <tr>\n",
       "      <th>259</th>\n",
       "      <td>0</td>\n",
       "      <td>1</td>\n",
       "      <td>1</td>\n",
       "      <td>1</td>\n",
       "      <td>1</td>\n",
       "      <td>1</td>\n",
       "      <td>5</td>\n",
       "      <td>2</td>\n",
       "      <td>2</td>\n",
       "      <td>69</td>\n",
       "      <td>34</td>\n",
       "      <td>12</td>\n",
       "      <td>17</td>\n",
       "      <td>0</td>\n",
       "      <td>0</td>\n",
       "      <td>1</td>\n",
       "    </tr>\n",
       "    <tr>\n",
       "      <th>371</th>\n",
       "      <td>0</td>\n",
       "      <td>6</td>\n",
       "      <td>6</td>\n",
       "      <td>1</td>\n",
       "      <td>1</td>\n",
       "      <td>1</td>\n",
       "      <td>3</td>\n",
       "      <td>2</td>\n",
       "      <td>1</td>\n",
       "      <td>35</td>\n",
       "      <td>2</td>\n",
       "      <td>29</td>\n",
       "      <td>23</td>\n",
       "      <td>0</td>\n",
       "      <td>0</td>\n",
       "      <td>0</td>\n",
       "    </tr>\n",
       "    <tr>\n",
       "      <th>...</th>\n",
       "      <td>...</td>\n",
       "      <td>...</td>\n",
       "      <td>...</td>\n",
       "      <td>...</td>\n",
       "      <td>...</td>\n",
       "      <td>...</td>\n",
       "      <td>...</td>\n",
       "      <td>...</td>\n",
       "      <td>...</td>\n",
       "      <td>...</td>\n",
       "      <td>...</td>\n",
       "      <td>...</td>\n",
       "      <td>...</td>\n",
       "      <td>...</td>\n",
       "      <td>...</td>\n",
       "      <td>...</td>\n",
       "    </tr>\n",
       "    <tr>\n",
       "      <th>402</th>\n",
       "      <td>0</td>\n",
       "      <td>6</td>\n",
       "      <td>6</td>\n",
       "      <td>2</td>\n",
       "      <td>2</td>\n",
       "      <td>1</td>\n",
       "      <td>10</td>\n",
       "      <td>1</td>\n",
       "      <td>1</td>\n",
       "      <td>76</td>\n",
       "      <td>81</td>\n",
       "      <td>80</td>\n",
       "      <td>86</td>\n",
       "      <td>0</td>\n",
       "      <td>1</td>\n",
       "      <td>0</td>\n",
       "    </tr>\n",
       "    <tr>\n",
       "      <th>41</th>\n",
       "      <td>0</td>\n",
       "      <td>1</td>\n",
       "      <td>1</td>\n",
       "      <td>2</td>\n",
       "      <td>2</td>\n",
       "      <td>1</td>\n",
       "      <td>1</td>\n",
       "      <td>1</td>\n",
       "      <td>1</td>\n",
       "      <td>19</td>\n",
       "      <td>20</td>\n",
       "      <td>16</td>\n",
       "      <td>50</td>\n",
       "      <td>0</td>\n",
       "      <td>1</td>\n",
       "      <td>0</td>\n",
       "    </tr>\n",
       "    <tr>\n",
       "      <th>124</th>\n",
       "      <td>0</td>\n",
       "      <td>1</td>\n",
       "      <td>1</td>\n",
       "      <td>1</td>\n",
       "      <td>1</td>\n",
       "      <td>3</td>\n",
       "      <td>1</td>\n",
       "      <td>1</td>\n",
       "      <td>1</td>\n",
       "      <td>0</td>\n",
       "      <td>6</td>\n",
       "      <td>4</td>\n",
       "      <td>15</td>\n",
       "      <td>1</td>\n",
       "      <td>0</td>\n",
       "      <td>0</td>\n",
       "    </tr>\n",
       "    <tr>\n",
       "      <th>394</th>\n",
       "      <td>0</td>\n",
       "      <td>6</td>\n",
       "      <td>6</td>\n",
       "      <td>2</td>\n",
       "      <td>2</td>\n",
       "      <td>1</td>\n",
       "      <td>10</td>\n",
       "      <td>1</td>\n",
       "      <td>2</td>\n",
       "      <td>78</td>\n",
       "      <td>91</td>\n",
       "      <td>50</td>\n",
       "      <td>40</td>\n",
       "      <td>1</td>\n",
       "      <td>1</td>\n",
       "      <td>0</td>\n",
       "    </tr>\n",
       "    <tr>\n",
       "      <th>161</th>\n",
       "      <td>0</td>\n",
       "      <td>6</td>\n",
       "      <td>6</td>\n",
       "      <td>2</td>\n",
       "      <td>2</td>\n",
       "      <td>2</td>\n",
       "      <td>4</td>\n",
       "      <td>2</td>\n",
       "      <td>2</td>\n",
       "      <td>72</td>\n",
       "      <td>80</td>\n",
       "      <td>58</td>\n",
       "      <td>66</td>\n",
       "      <td>0</td>\n",
       "      <td>0</td>\n",
       "      <td>0</td>\n",
       "    </tr>\n",
       "  </tbody>\n",
       "</table>\n",
       "<p>240 rows × 16 columns</p>\n",
       "</div>"
      ],
      "text/plain": [
       "     gender  NationalITy  PlaceofBirth  StageID  GradeID  SectionID  Topic  \\\n",
       "242       0            1             1        2        2          2      4   \n",
       "405       1           11            11        2        2          1     10   \n",
       "439       0            6             6        2        2          1     11   \n",
       "259       0            1             1        1        1          1      5   \n",
       "371       0            6             6        1        1          1      3   \n",
       "..      ...          ...           ...      ...      ...        ...    ...   \n",
       "402       0            6             6        2        2          1     10   \n",
       "41        0            1             1        2        2          1      1   \n",
       "124       0            1             1        1        1          3      1   \n",
       "394       0            6             6        2        2          1     10   \n",
       "161       0            6             6        2        2          2      4   \n",
       "\n",
       "     Semester  Relation  raisedhands  VisITedResources  AnnouncementsView  \\\n",
       "242         2         1           22                20                 18   \n",
       "405         2         2           80                91                 87   \n",
       "439         2         2           70                82                 75   \n",
       "259         2         2           69                34                 12   \n",
       "371         2         1           35                 2                 29   \n",
       "..        ...       ...          ...               ...                ...   \n",
       "402         1         1           76                81                 80   \n",
       "41          1         1           19                20                 16   \n",
       "124         1         1            0                 6                  4   \n",
       "394         1         2           78                91                 50   \n",
       "161         2         2           72                80                 58   \n",
       "\n",
       "     Discussion  ParentAnsweringSurvey  ParentschoolSatisfaction  \\\n",
       "242           6                      0                         0   \n",
       "405          72                      1                         1   \n",
       "439          29                      1                         1   \n",
       "259          17                      0                         0   \n",
       "371          23                      0                         0   \n",
       "..          ...                    ...                       ...   \n",
       "402          86                      0                         1   \n",
       "41           50                      0                         1   \n",
       "124          15                      1                         0   \n",
       "394          40                      1                         1   \n",
       "161          66                      0                         0   \n",
       "\n",
       "     StudentAbsenceDays  \n",
       "242                   1  \n",
       "405                   0  \n",
       "439                   0  \n",
       "259                   1  \n",
       "371                   0  \n",
       "..                  ...  \n",
       "402                   0  \n",
       "41                    0  \n",
       "124                   0  \n",
       "394                   0  \n",
       "161                   0  \n",
       "\n",
       "[240 rows x 16 columns]"
      ]
     },
     "execution_count": 103,
     "metadata": {},
     "output_type": "execute_result"
    }
   ],
   "source": [
    "X_test"
   ]
  },
  {
   "cell_type": "code",
   "execution_count": 104,
   "id": "c9981836",
   "metadata": {},
   "outputs": [
    {
     "data": {
      "text/plain": [
       "242    L\n",
       "405    H\n",
       "439    M\n",
       "259    L\n",
       "371    M\n",
       "      ..\n",
       "402    H\n",
       "41     M\n",
       "124    L\n",
       "394    H\n",
       "161    M\n",
       "Name: Class, Length: 240, dtype: object"
      ]
     },
     "execution_count": 104,
     "metadata": {},
     "output_type": "execute_result"
    }
   ],
   "source": [
    "y_test"
   ]
  },
  {
   "cell_type": "code",
   "execution_count": 105,
   "id": "3a040813",
   "metadata": {},
   "outputs": [],
   "source": [
    "X_test_df=X_test.reset_index()"
   ]
  },
  {
   "cell_type": "code",
   "execution_count": 106,
   "id": "9651933d",
   "metadata": {},
   "outputs": [],
   "source": [
    "y_test_df=y_test.reset_index()"
   ]
  },
  {
   "cell_type": "code",
   "execution_count": 107,
   "id": "20abd042",
   "metadata": {},
   "outputs": [],
   "source": [
    "merge1=X_test_df.merge(y_test_df)"
   ]
  },
  {
   "cell_type": "code",
   "execution_count": 108,
   "id": "60bd057b",
   "metadata": {},
   "outputs": [],
   "source": [
    "predict_data_frame = pd.DataFrame (decisiontreepredict)"
   ]
  },
  {
   "cell_type": "code",
   "execution_count": 109,
   "id": "f2ba0470",
   "metadata": {},
   "outputs": [
    {
     "data": {
      "text/html": [
       "<div>\n",
       "<style scoped>\n",
       "    .dataframe tbody tr th:only-of-type {\n",
       "        vertical-align: middle;\n",
       "    }\n",
       "\n",
       "    .dataframe tbody tr th {\n",
       "        vertical-align: top;\n",
       "    }\n",
       "\n",
       "    .dataframe thead th {\n",
       "        text-align: right;\n",
       "    }\n",
       "</style>\n",
       "<table border=\"1\" class=\"dataframe\">\n",
       "  <thead>\n",
       "    <tr style=\"text-align: right;\">\n",
       "      <th></th>\n",
       "      <th>0</th>\n",
       "    </tr>\n",
       "  </thead>\n",
       "  <tbody>\n",
       "    <tr>\n",
       "      <th>0</th>\n",
       "      <td>L</td>\n",
       "    </tr>\n",
       "    <tr>\n",
       "      <th>1</th>\n",
       "      <td>H</td>\n",
       "    </tr>\n",
       "    <tr>\n",
       "      <th>2</th>\n",
       "      <td>M</td>\n",
       "    </tr>\n",
       "    <tr>\n",
       "      <th>3</th>\n",
       "      <td>L</td>\n",
       "    </tr>\n",
       "    <tr>\n",
       "      <th>4</th>\n",
       "      <td>M</td>\n",
       "    </tr>\n",
       "    <tr>\n",
       "      <th>...</th>\n",
       "      <td>...</td>\n",
       "    </tr>\n",
       "    <tr>\n",
       "      <th>235</th>\n",
       "      <td>H</td>\n",
       "    </tr>\n",
       "    <tr>\n",
       "      <th>236</th>\n",
       "      <td>M</td>\n",
       "    </tr>\n",
       "    <tr>\n",
       "      <th>237</th>\n",
       "      <td>L</td>\n",
       "    </tr>\n",
       "    <tr>\n",
       "      <th>238</th>\n",
       "      <td>H</td>\n",
       "    </tr>\n",
       "    <tr>\n",
       "      <th>239</th>\n",
       "      <td>M</td>\n",
       "    </tr>\n",
       "  </tbody>\n",
       "</table>\n",
       "<p>240 rows × 1 columns</p>\n",
       "</div>"
      ],
      "text/plain": [
       "     0\n",
       "0    L\n",
       "1    H\n",
       "2    M\n",
       "3    L\n",
       "4    M\n",
       "..  ..\n",
       "235  H\n",
       "236  M\n",
       "237  L\n",
       "238  H\n",
       "239  M\n",
       "\n",
       "[240 rows x 1 columns]"
      ]
     },
     "execution_count": 109,
     "metadata": {},
     "output_type": "execute_result"
    }
   ],
   "source": [
    "predict_data_frame"
   ]
  },
  {
   "cell_type": "code",
   "execution_count": 110,
   "id": "1136e150",
   "metadata": {},
   "outputs": [],
   "source": [
    "filepath = 'predict_first.xlsx'\n",
    "predict_data_frame.to_excel(filepath, index=False)"
   ]
  },
  {
   "cell_type": "code",
   "execution_count": 111,
   "id": "24c1923a",
   "metadata": {},
   "outputs": [],
   "source": [
    "filepath = 'merge1.xlsx'\n",
    "merge1.to_excel(filepath, index=False)"
   ]
  },
  {
   "cell_type": "code",
   "execution_count": 112,
   "id": "ebc0682b",
   "metadata": {},
   "outputs": [],
   "source": [
    "predict_data_frame=pd.read_csv('predict_first.csv')"
   ]
  },
  {
   "cell_type": "code",
   "execution_count": 113,
   "id": "4d8bef1f",
   "metadata": {},
   "outputs": [
    {
     "data": {
      "text/html": [
       "<div>\n",
       "<style scoped>\n",
       "    .dataframe tbody tr th:only-of-type {\n",
       "        vertical-align: middle;\n",
       "    }\n",
       "\n",
       "    .dataframe tbody tr th {\n",
       "        vertical-align: top;\n",
       "    }\n",
       "\n",
       "    .dataframe thead th {\n",
       "        text-align: right;\n",
       "    }\n",
       "</style>\n",
       "<table border=\"1\" class=\"dataframe\">\n",
       "  <thead>\n",
       "    <tr style=\"text-align: right;\">\n",
       "      <th></th>\n",
       "      <th>index</th>\n",
       "      <th>Predict</th>\n",
       "    </tr>\n",
       "  </thead>\n",
       "  <tbody>\n",
       "    <tr>\n",
       "      <th>0</th>\n",
       "      <td>242</td>\n",
       "      <td>L</td>\n",
       "    </tr>\n",
       "    <tr>\n",
       "      <th>1</th>\n",
       "      <td>405</td>\n",
       "      <td>H</td>\n",
       "    </tr>\n",
       "    <tr>\n",
       "      <th>2</th>\n",
       "      <td>439</td>\n",
       "      <td>M</td>\n",
       "    </tr>\n",
       "    <tr>\n",
       "      <th>3</th>\n",
       "      <td>259</td>\n",
       "      <td>L</td>\n",
       "    </tr>\n",
       "    <tr>\n",
       "      <th>4</th>\n",
       "      <td>371</td>\n",
       "      <td>M</td>\n",
       "    </tr>\n",
       "    <tr>\n",
       "      <th>...</th>\n",
       "      <td>...</td>\n",
       "      <td>...</td>\n",
       "    </tr>\n",
       "    <tr>\n",
       "      <th>235</th>\n",
       "      <td>402</td>\n",
       "      <td>H</td>\n",
       "    </tr>\n",
       "    <tr>\n",
       "      <th>236</th>\n",
       "      <td>41</td>\n",
       "      <td>M</td>\n",
       "    </tr>\n",
       "    <tr>\n",
       "      <th>237</th>\n",
       "      <td>124</td>\n",
       "      <td>L</td>\n",
       "    </tr>\n",
       "    <tr>\n",
       "      <th>238</th>\n",
       "      <td>394</td>\n",
       "      <td>H</td>\n",
       "    </tr>\n",
       "    <tr>\n",
       "      <th>239</th>\n",
       "      <td>161</td>\n",
       "      <td>M</td>\n",
       "    </tr>\n",
       "  </tbody>\n",
       "</table>\n",
       "<p>240 rows × 2 columns</p>\n",
       "</div>"
      ],
      "text/plain": [
       "     index Predict\n",
       "0      242       L\n",
       "1      405       H\n",
       "2      439       M\n",
       "3      259       L\n",
       "4      371       M\n",
       "..     ...     ...\n",
       "235    402       H\n",
       "236     41       M\n",
       "237    124       L\n",
       "238    394       H\n",
       "239    161       M\n",
       "\n",
       "[240 rows x 2 columns]"
      ]
     },
     "execution_count": 113,
     "metadata": {},
     "output_type": "execute_result"
    }
   ],
   "source": [
    "predict_data_frame"
   ]
  },
  {
   "cell_type": "code",
   "execution_count": 114,
   "id": "d6f83e8a",
   "metadata": {},
   "outputs": [],
   "source": [
    "merge2=pd.merge(merge1,predict_data_frame)"
   ]
  },
  {
   "cell_type": "code",
   "execution_count": 115,
   "id": "656627bb",
   "metadata": {},
   "outputs": [],
   "source": [
    "filepath = 'merge2.xlsx'\n",
    "merge2.to_excel(filepath, index=False)"
   ]
  },
  {
   "cell_type": "markdown",
   "id": "c2f6bbed",
   "metadata": {},
   "source": [
    "#### When we look at the accuracy, precision and recall values, we see that the model with 50%/50% and criterion=entropy gives the best result. "
   ]
  },
  {
   "cell_type": "markdown",
   "id": "9d330a04",
   "metadata": {},
   "source": [
    "### Cross Validation"
   ]
  },
  {
   "cell_type": "code",
   "execution_count": 116,
   "id": "f2a8503e",
   "metadata": {},
   "outputs": [
    {
     "name": "stdout",
     "output_type": "stream",
     "text": [
      "480 480\n"
     ]
    }
   ],
   "source": [
    "y = data.Class\n",
    "X = data.drop('Class', axis=1)\n",
    "print(len(X), len(y))"
   ]
  },
  {
   "cell_type": "code",
   "execution_count": 117,
   "id": "04a6608c",
   "metadata": {},
   "outputs": [
    {
     "name": "stdout",
     "output_type": "stream",
     "text": [
      "Eğitim veri kümesindeki satır sayısı :  384 \n",
      "Eğitim veri kümesindeki hedef sayısı :  384 \n",
      "Test veri kümesindeki satır sayısı :  96 \n",
      "Test veri kümesindeki hedef sayısı :  96 \n"
     ]
    }
   ],
   "source": [
    "X_train, X_test, y_train, y_test = train_test_split(X, y, test_size=0.2)\n",
    "print(\"Eğitim veri kümesindeki satır sayısı :  {} \".format(len(X_train)))\n",
    "print(\"Eğitim veri kümesindeki hedef sayısı :  {} \".format(len(y_train)))\n",
    "print(\"Test veri kümesindeki satır sayısı :  {} \".format(len(X_test)))\n",
    "print(\"Test veri kümesindeki hedef sayısı :  {} \".format(len(y_test)))"
   ]
  },
  {
   "cell_type": "code",
   "execution_count": 118,
   "id": "188e7d34",
   "metadata": {},
   "outputs": [
    {
     "data": {
      "image/png": "[encoded data removed]",
      "text/plain": [
       "<Figure size 1080x360 with 3 Axes>"
      ]
     },
     "metadata": {
      "needs_background": "light"
     },
     "output_type": "display_data"
    }
   ],
   "source": [
    "plt.figure(figsize=(15,5))\n",
    "plt.subplot(131)\n",
    "sns.countplot(y)\n",
    "plt.title(\"Tüm veriler\")\n",
    "plt.subplot(132)\n",
    "sns.countplot(y_train)\n",
    "plt.title(\"Eğitim veri kümesi\")\n",
    "plt.subplot(133)\n",
    "sns.countplot(y_test)\n",
    "plt.title(\"Test kümesi\")\n",
    "plt.show()"
   ]
  },
  {
   "cell_type": "code",
   "execution_count": 119,
   "id": "1ad7e98b",
   "metadata": {},
   "outputs": [],
   "source": [
    "from sklearn.model_selection import KFold\n",
    "kf = KFold(n_splits=5, shuffle=True, random_state=1111)"
   ]
  },
  {
   "cell_type": "code",
   "execution_count": 120,
   "id": "46a74e47",
   "metadata": {},
   "outputs": [
    {
     "name": "stdout",
     "output_type": "stream",
     "text": [
      "1.Eğitim Kümesi Boyutu : 384\n",
      "1.Test Kümesi Boyutu   : 96\n",
      "---------------------------\n",
      "2.Eğitim Kümesi Boyutu : 384\n",
      "2.Test Kümesi Boyutu   : 96\n",
      "---------------------------\n",
      "3.Eğitim Kümesi Boyutu : 384\n",
      "3.Test Kümesi Boyutu   : 96\n",
      "---------------------------\n",
      "4.Eğitim Kümesi Boyutu : 384\n",
      "4.Test Kümesi Boyutu   : 96\n",
      "---------------------------\n",
      "5.Eğitim Kümesi Boyutu : 384\n",
      "5.Test Kümesi Boyutu   : 96\n",
      "---------------------------\n"
     ]
    }
   ],
   "source": [
    "parcalar = kf.split(X)\n",
    "for num, (eğitim_index, test_index) in enumerate(parcalar):\n",
    "    print(\"{}.Eğitim Kümesi Boyutu : {}\".format(num+1,len(eğitim_index)))\n",
    "    print(\"{}.Test Kümesi Boyutu   : {}\".format(num+1,len(test_index)))\n",
    "    print('-'*27)"
   ]
  },
  {
   "cell_type": "code",
   "execution_count": 121,
   "id": "2d9eb640",
   "metadata": {},
   "outputs": [
    {
     "name": "stdout",
     "output_type": "stream",
     "text": [
      "Piece No.1 score: 0.79166667\n",
      "----------------------- \n",
      "\n",
      "Piece No.2 score: 0.71875000\n",
      "----------------------- \n",
      "\n",
      "Piece No.3 score: 0.75000000\n",
      "----------------------- \n",
      "\n",
      "Piece No.4 score: 0.73958333\n",
      "----------------------- \n",
      "\n",
      "Piece No.5 score: 0.75000000\n",
      "----------------------- \n",
      "\n"
     ]
    }
   ],
   "source": [
    "from sklearn.metrics import mean_squared_error\n",
    "\n",
    "model2 = LogisticRegression()\n",
    "\n",
    "pieces = kf.split(X)\n",
    "score_list = []\n",
    "\n",
    "for a, (train_index, test_indeks) in enumerate(pieces):\n",
    "    X_train, y_train = X.iloc[train_index], y.iloc[train_index]\n",
    "\n",
    "    X_test, y_test = X.iloc[test_index], y.iloc[test_index]\n",
    "\n",
    "    \n",
    "    model2.fit(X_train, y_train)\n",
    "    \n",
    "    prediction = model2.predict(X_test)\n",
    "    \n",
    "    score = model2.score(X_test, y_test)  \n",
    "    score_list.append(score)\n",
    "    \n",
    "    print(\"Piece No.{} score: {:.8f}\".format(a+1,score))\n",
    "    print(\"-\"*23, \"\\n\")"
   ]
  },
  {
   "cell_type": "code",
   "execution_count": 122,
   "id": "af435d17",
   "metadata": {},
   "outputs": [
    {
     "name": "stdout",
     "output_type": "stream",
     "text": [
      "Mean score : 0.75\n"
     ]
    }
   ],
   "source": [
    "print(\"Mean score : {:.2f}\".format(np.mean(score_list)))"
   ]
  },
  {
   "cell_type": "code",
   "execution_count": 123,
   "id": "7ab729b1",
   "metadata": {},
   "outputs": [
    {
     "name": "stdout",
     "output_type": "stream",
     "text": [
      "Train Scores :\n",
      "[0.73148148 0.72222222 0.72453704 0.71990741 0.72685185 0.72916667\n",
      " 0.73842593 0.7337963  0.75231481 0.71990741]\n",
      "--------------------------------------------------\n",
      "Test Scores     :\n",
      "[0.625      0.6875     0.58333333 0.6875     0.70833333 0.64583333\n",
      " 0.47916667 0.875      0.58333333 0.64583333]\n"
     ]
    }
   ],
   "source": [
    "from sklearn.model_selection import cross_validate, cross_val_score\n",
    "log_reg_model = LogisticRegression()\n",
    "\n",
    "cv = cross_validate(estimator=log_reg_model,\n",
    "                    X=X,\n",
    "                    y=y,\n",
    "                    cv=10,\n",
    "                    return_train_score=True,\n",
    "                   )\n",
    "\n",
    "print('Train Scores :', cv['train_score'], sep = '\\n')\n",
    "print(\"-\"*50)\n",
    "print('Test Scores     :', cv['test_score'], sep = '\\n')"
   ]
  },
  {
   "cell_type": "code",
   "execution_count": 124,
   "id": "46f5359b",
   "metadata": {},
   "outputs": [
    {
     "name": "stdout",
     "output_type": "stream",
     "text": [
      "Mean score of train set :  0.7298611111111112\n",
      "Mean score of test set  :  0.6520833333333333\n"
     ]
    }
   ],
   "source": [
    "print('Mean score of train set : ', cv['train_score'].mean())\n",
    "print('Mean score of test set  : ', cv['test_score'].mean())"
   ]
  },
  {
   "cell_type": "code",
   "execution_count": 125,
   "id": "60cd7daa",
   "metadata": {},
   "outputs": [
    {
     "name": "stdout",
     "output_type": "stream",
     "text": [
      "Model Scores : \n",
      "[0.625      0.6875     0.58333333 0.6875     0.70833333 0.64583333\n",
      " 0.47916667 0.875      0.58333333 0.64583333]\n",
      "Mean score : 0.65\n"
     ]
    }
   ],
   "source": [
    "cv = cross_val_score(estimator=log_reg_model,\n",
    "                     X=X,\n",
    "                     y=y,\n",
    "                     cv=10,\n",
    "                    )\n",
    "\n",
    "print('Model Scores : ', cv, sep = '\\n')\n",
    "print(\"Mean score : {:.2f}\".format(np.mean(cv)))"
   ]
  },
  {
   "cell_type": "markdown",
   "id": "c24d424e",
   "metadata": {},
   "source": [
    "#### Let's use Grid Search"
   ]
  },
  {
   "cell_type": "code",
   "execution_count": 126,
   "id": "704ffad0",
   "metadata": {},
   "outputs": [
    {
     "data": {
      "text/plain": [
       "GridSearchCV(cv=10, estimator=LogisticRegression(),\n",
       "             param_grid={'C': [1e-05, 0.0001, 0.001, 0.01, 0.1, 1, 10, 100,\n",
       "                               1000, 10000],\n",
       "                         'penalty': ['l1', 'l2']})"
      ]
     },
     "execution_count": 126,
     "metadata": {},
     "output_type": "execute_result"
    }
   ],
   "source": [
    "parameters = {\"C\": [10 ** x for x in range (-5, 5, 1)],\n",
    "              \"penalty\": ['l1', 'l2']\n",
    "             }\n",
    "from sklearn.model_selection import GridSearchCV\n",
    "\n",
    "grid_cv = GridSearchCV(estimator=log_reg_model,\n",
    "                       param_grid = parameters,\n",
    "                       cv = 10\n",
    "                      )\n",
    "\n",
    "grid_cv.fit(X, y)"
   ]
  },
  {
   "cell_type": "code",
   "execution_count": 127,
   "id": "40c37f94",
   "metadata": {},
   "outputs": [
    {
     "name": "stdout",
     "output_type": "stream",
     "text": [
      "Best Parameters :  {'C': 1000, 'penalty': 'l2'}\n",
      "Best Score      :  0.6625\n"
     ]
    }
   ],
   "source": [
    "print(\"Best Parameters : \", grid_cv.best_params_)\n",
    "print(\"Best Score      : \", grid_cv.best_score_)"
   ]
  },
  {
   "cell_type": "code",
   "execution_count": 128,
   "id": "afc01ae0",
   "metadata": {},
   "outputs": [
    {
     "data": {
      "text/html": [
       "<div>\n",
       "<style scoped>\n",
       "    .dataframe tbody tr th:only-of-type {\n",
       "        vertical-align: middle;\n",
       "    }\n",
       "\n",
       "    .dataframe tbody tr th {\n",
       "        vertical-align: top;\n",
       "    }\n",
       "\n",
       "    .dataframe thead th {\n",
       "        text-align: right;\n",
       "    }\n",
       "</style>\n",
       "<table border=\"1\" class=\"dataframe\">\n",
       "  <thead>\n",
       "    <tr style=\"text-align: right;\">\n",
       "      <th></th>\n",
       "      <th>param_penalty</th>\n",
       "      <th>param_C</th>\n",
       "      <th>mean_test_score</th>\n",
       "    </tr>\n",
       "  </thead>\n",
       "  <tbody>\n",
       "    <tr>\n",
       "      <th>17</th>\n",
       "      <td>l2</td>\n",
       "      <td>1000</td>\n",
       "      <td>0.662500</td>\n",
       "    </tr>\n",
       "    <tr>\n",
       "      <th>15</th>\n",
       "      <td>l2</td>\n",
       "      <td>100</td>\n",
       "      <td>0.658333</td>\n",
       "    </tr>\n",
       "    <tr>\n",
       "      <th>11</th>\n",
       "      <td>l2</td>\n",
       "      <td>1</td>\n",
       "      <td>0.652083</td>\n",
       "    </tr>\n",
       "    <tr>\n",
       "      <th>19</th>\n",
       "      <td>l2</td>\n",
       "      <td>10000</td>\n",
       "      <td>0.652083</td>\n",
       "    </tr>\n",
       "    <tr>\n",
       "      <th>13</th>\n",
       "      <td>l2</td>\n",
       "      <td>10</td>\n",
       "      <td>0.650000</td>\n",
       "    </tr>\n",
       "  </tbody>\n",
       "</table>\n",
       "</div>"
      ],
      "text/plain": [
       "   param_penalty param_C  mean_test_score\n",
       "17            l2    1000         0.662500\n",
       "15            l2     100         0.658333\n",
       "11            l2       1         0.652083\n",
       "19            l2   10000         0.652083\n",
       "13            l2      10         0.650000"
      ]
     },
     "execution_count": 128,
     "metadata": {},
     "output_type": "execute_result"
    }
   ],
   "source": [
    "results = grid_cv.cv_results_\n",
    "\n",
    "df = pd.DataFrame(results)\n",
    "df = df[['param_penalty','param_C', 'mean_test_score']]\n",
    "df = df.sort_values(by='mean_test_score', ascending = False)\n",
    "df.head(5)"
   ]
  },
  {
   "cell_type": "markdown",
   "id": "ad44f621",
   "metadata": {},
   "source": [
    "#### The best score was given at l2 and 1000."
   ]
  },
  {
   "cell_type": "markdown",
   "id": "92246268",
   "metadata": {},
   "source": [
    "----------------------------"
   ]
  },
  {
   "cell_type": "markdown",
   "id": "a0b99370",
   "metadata": {},
   "source": [
    "### Let's cross validation with Random Forest."
   ]
  },
  {
   "cell_type": "code",
   "execution_count": 129,
   "id": "63ee5d6a",
   "metadata": {},
   "outputs": [],
   "source": [
    "from sklearn.model_selection import KFold\n",
    "kf = KFold(n_splits=5, shuffle=True, random_state=1111)"
   ]
  },
  {
   "cell_type": "code",
   "execution_count": 130,
   "id": "df9fed29",
   "metadata": {},
   "outputs": [
    {
     "name": "stdout",
     "output_type": "stream",
     "text": [
      "Piece No.1 score: 1.00000000\n",
      "----------------------- \n",
      "\n",
      "Piece No.2 score: 1.00000000\n",
      "----------------------- \n",
      "\n",
      "Piece No.3 score: 1.00000000\n",
      "----------------------- \n",
      "\n",
      "Piece No.4 score: 1.00000000\n",
      "----------------------- \n",
      "\n",
      "Piece No.5 score: 0.73958333\n",
      "----------------------- \n",
      "\n"
     ]
    }
   ],
   "source": [
    "from sklearn.metrics import mean_squared_error\n",
    "\n",
    "model2 = DecisionTreeClassifier()\n",
    "\n",
    "pieces = kf.split(X)\n",
    "score_list = []\n",
    "\n",
    "for a, (train_index, test_indeks) in enumerate(pieces):\n",
    "    X_train, y_train = X.iloc[train_index], y.iloc[train_index]\n",
    "\n",
    "    X_test, y_test = X.iloc[test_index], y.iloc[test_index]\n",
    "\n",
    "    \n",
    "    model2.fit(X_train, y_train)\n",
    "    \n",
    "    prediction = model2.predict(X_test)\n",
    "    \n",
    "    score = model2.score(X_test, y_test)  \n",
    "    score_list.append(score)\n",
    "    \n",
    "    print(\"Piece No.{} score: {:.8f}\".format(a+1,score))\n",
    "    print(\"-\"*23, \"\\n\")"
   ]
  },
  {
   "cell_type": "code",
   "execution_count": 131,
   "id": "5c389d50",
   "metadata": {},
   "outputs": [
    {
     "name": "stdout",
     "output_type": "stream",
     "text": [
      "Mean score : 0.95\n"
     ]
    }
   ],
   "source": [
    "print(\"Mean score : {:.2f}\".format(np.mean(score_list)))"
   ]
  },
  {
   "cell_type": "markdown",
   "id": "ac0ae8ff",
   "metadata": {},
   "source": [
    "__________________________________________________________"
   ]
  },
  {
   "cell_type": "markdown",
   "id": "97757844",
   "metadata": {},
   "source": [
    "__________________________________________________________"
   ]
  },
  {
   "cell_type": "markdown",
   "id": "1fe1221c",
   "metadata": {},
   "source": [
    "## I delete one of the two almost identical columns to remove the curse of dimensionality."
   ]
  },
  {
   "cell_type": "code",
   "execution_count": 132,
   "id": "9615c9ad",
   "metadata": {},
   "outputs": [],
   "source": [
    "data.drop('NationalITy', axis=1, inplace=True)"
   ]
  },
  {
   "cell_type": "code",
   "execution_count": 133,
   "id": "c570723f",
   "metadata": {},
   "outputs": [
    {
     "data": {
      "text/html": [
       "<div>\n",
       "<style scoped>\n",
       "    .dataframe tbody tr th:only-of-type {\n",
       "        vertical-align: middle;\n",
       "    }\n",
       "\n",
       "    .dataframe tbody tr th {\n",
       "        vertical-align: top;\n",
       "    }\n",
       "\n",
       "    .dataframe thead th {\n",
       "        text-align: right;\n",
       "    }\n",
       "</style>\n",
       "<table border=\"1\" class=\"dataframe\">\n",
       "  <thead>\n",
       "    <tr style=\"text-align: right;\">\n",
       "      <th></th>\n",
       "      <th>gender</th>\n",
       "      <th>PlaceofBirth</th>\n",
       "      <th>StageID</th>\n",
       "      <th>GradeID</th>\n",
       "      <th>SectionID</th>\n",
       "      <th>Topic</th>\n",
       "      <th>Semester</th>\n",
       "      <th>Relation</th>\n",
       "      <th>raisedhands</th>\n",
       "      <th>VisITedResources</th>\n",
       "      <th>AnnouncementsView</th>\n",
       "      <th>Discussion</th>\n",
       "      <th>ParentAnsweringSurvey</th>\n",
       "      <th>ParentschoolSatisfaction</th>\n",
       "      <th>StudentAbsenceDays</th>\n",
       "      <th>Class</th>\n",
       "    </tr>\n",
       "  </thead>\n",
       "  <tbody>\n",
       "    <tr>\n",
       "      <th>0</th>\n",
       "      <td>0</td>\n",
       "      <td>1</td>\n",
       "      <td>1</td>\n",
       "      <td>1</td>\n",
       "      <td>1</td>\n",
       "      <td>1</td>\n",
       "      <td>1</td>\n",
       "      <td>1</td>\n",
       "      <td>15</td>\n",
       "      <td>16</td>\n",
       "      <td>2</td>\n",
       "      <td>20</td>\n",
       "      <td>1</td>\n",
       "      <td>1</td>\n",
       "      <td>0</td>\n",
       "      <td>M</td>\n",
       "    </tr>\n",
       "    <tr>\n",
       "      <th>1</th>\n",
       "      <td>0</td>\n",
       "      <td>1</td>\n",
       "      <td>1</td>\n",
       "      <td>1</td>\n",
       "      <td>1</td>\n",
       "      <td>1</td>\n",
       "      <td>1</td>\n",
       "      <td>1</td>\n",
       "      <td>20</td>\n",
       "      <td>20</td>\n",
       "      <td>3</td>\n",
       "      <td>25</td>\n",
       "      <td>1</td>\n",
       "      <td>1</td>\n",
       "      <td>0</td>\n",
       "      <td>M</td>\n",
       "    </tr>\n",
       "    <tr>\n",
       "      <th>2</th>\n",
       "      <td>0</td>\n",
       "      <td>1</td>\n",
       "      <td>1</td>\n",
       "      <td>1</td>\n",
       "      <td>1</td>\n",
       "      <td>1</td>\n",
       "      <td>1</td>\n",
       "      <td>1</td>\n",
       "      <td>10</td>\n",
       "      <td>7</td>\n",
       "      <td>0</td>\n",
       "      <td>30</td>\n",
       "      <td>0</td>\n",
       "      <td>0</td>\n",
       "      <td>1</td>\n",
       "      <td>L</td>\n",
       "    </tr>\n",
       "    <tr>\n",
       "      <th>3</th>\n",
       "      <td>0</td>\n",
       "      <td>1</td>\n",
       "      <td>1</td>\n",
       "      <td>1</td>\n",
       "      <td>1</td>\n",
       "      <td>1</td>\n",
       "      <td>1</td>\n",
       "      <td>1</td>\n",
       "      <td>30</td>\n",
       "      <td>25</td>\n",
       "      <td>5</td>\n",
       "      <td>35</td>\n",
       "      <td>0</td>\n",
       "      <td>0</td>\n",
       "      <td>1</td>\n",
       "      <td>L</td>\n",
       "    </tr>\n",
       "    <tr>\n",
       "      <th>4</th>\n",
       "      <td>0</td>\n",
       "      <td>1</td>\n",
       "      <td>1</td>\n",
       "      <td>1</td>\n",
       "      <td>1</td>\n",
       "      <td>1</td>\n",
       "      <td>1</td>\n",
       "      <td>1</td>\n",
       "      <td>40</td>\n",
       "      <td>50</td>\n",
       "      <td>12</td>\n",
       "      <td>50</td>\n",
       "      <td>0</td>\n",
       "      <td>0</td>\n",
       "      <td>1</td>\n",
       "      <td>M</td>\n",
       "    </tr>\n",
       "    <tr>\n",
       "      <th>...</th>\n",
       "      <td>...</td>\n",
       "      <td>...</td>\n",
       "      <td>...</td>\n",
       "      <td>...</td>\n",
       "      <td>...</td>\n",
       "      <td>...</td>\n",
       "      <td>...</td>\n",
       "      <td>...</td>\n",
       "      <td>...</td>\n",
       "      <td>...</td>\n",
       "      <td>...</td>\n",
       "      <td>...</td>\n",
       "      <td>...</td>\n",
       "      <td>...</td>\n",
       "      <td>...</td>\n",
       "      <td>...</td>\n",
       "    </tr>\n",
       "    <tr>\n",
       "      <th>475</th>\n",
       "      <td>1</td>\n",
       "      <td>6</td>\n",
       "      <td>2</td>\n",
       "      <td>2</td>\n",
       "      <td>1</td>\n",
       "      <td>11</td>\n",
       "      <td>2</td>\n",
       "      <td>1</td>\n",
       "      <td>5</td>\n",
       "      <td>4</td>\n",
       "      <td>5</td>\n",
       "      <td>8</td>\n",
       "      <td>0</td>\n",
       "      <td>0</td>\n",
       "      <td>1</td>\n",
       "      <td>L</td>\n",
       "    </tr>\n",
       "    <tr>\n",
       "      <th>476</th>\n",
       "      <td>1</td>\n",
       "      <td>6</td>\n",
       "      <td>2</td>\n",
       "      <td>2</td>\n",
       "      <td>1</td>\n",
       "      <td>12</td>\n",
       "      <td>1</td>\n",
       "      <td>1</td>\n",
       "      <td>50</td>\n",
       "      <td>77</td>\n",
       "      <td>14</td>\n",
       "      <td>28</td>\n",
       "      <td>0</td>\n",
       "      <td>0</td>\n",
       "      <td>0</td>\n",
       "      <td>M</td>\n",
       "    </tr>\n",
       "    <tr>\n",
       "      <th>477</th>\n",
       "      <td>1</td>\n",
       "      <td>6</td>\n",
       "      <td>2</td>\n",
       "      <td>2</td>\n",
       "      <td>1</td>\n",
       "      <td>12</td>\n",
       "      <td>2</td>\n",
       "      <td>1</td>\n",
       "      <td>55</td>\n",
       "      <td>74</td>\n",
       "      <td>25</td>\n",
       "      <td>29</td>\n",
       "      <td>0</td>\n",
       "      <td>0</td>\n",
       "      <td>0</td>\n",
       "      <td>M</td>\n",
       "    </tr>\n",
       "    <tr>\n",
       "      <th>478</th>\n",
       "      <td>1</td>\n",
       "      <td>6</td>\n",
       "      <td>2</td>\n",
       "      <td>2</td>\n",
       "      <td>1</td>\n",
       "      <td>9</td>\n",
       "      <td>1</td>\n",
       "      <td>1</td>\n",
       "      <td>30</td>\n",
       "      <td>17</td>\n",
       "      <td>14</td>\n",
       "      <td>57</td>\n",
       "      <td>0</td>\n",
       "      <td>0</td>\n",
       "      <td>1</td>\n",
       "      <td>L</td>\n",
       "    </tr>\n",
       "    <tr>\n",
       "      <th>479</th>\n",
       "      <td>1</td>\n",
       "      <td>6</td>\n",
       "      <td>2</td>\n",
       "      <td>2</td>\n",
       "      <td>1</td>\n",
       "      <td>9</td>\n",
       "      <td>2</td>\n",
       "      <td>1</td>\n",
       "      <td>35</td>\n",
       "      <td>14</td>\n",
       "      <td>23</td>\n",
       "      <td>62</td>\n",
       "      <td>0</td>\n",
       "      <td>0</td>\n",
       "      <td>1</td>\n",
       "      <td>L</td>\n",
       "    </tr>\n",
       "  </tbody>\n",
       "</table>\n",
       "<p>480 rows × 16 columns</p>\n",
       "</div>"
      ],
      "text/plain": [
       "     gender  PlaceofBirth  StageID  GradeID  SectionID  Topic  Semester  \\\n",
       "0         0             1        1        1          1      1         1   \n",
       "1         0             1        1        1          1      1         1   \n",
       "2         0             1        1        1          1      1         1   \n",
       "3         0             1        1        1          1      1         1   \n",
       "4         0             1        1        1          1      1         1   \n",
       "..      ...           ...      ...      ...        ...    ...       ...   \n",
       "475       1             6        2        2          1     11         2   \n",
       "476       1             6        2        2          1     12         1   \n",
       "477       1             6        2        2          1     12         2   \n",
       "478       1             6        2        2          1      9         1   \n",
       "479       1             6        2        2          1      9         2   \n",
       "\n",
       "     Relation  raisedhands  VisITedResources  AnnouncementsView  Discussion  \\\n",
       "0           1           15                16                  2          20   \n",
       "1           1           20                20                  3          25   \n",
       "2           1           10                 7                  0          30   \n",
       "3           1           30                25                  5          35   \n",
       "4           1           40                50                 12          50   \n",
       "..        ...          ...               ...                ...         ...   \n",
       "475         1            5                 4                  5           8   \n",
       "476         1           50                77                 14          28   \n",
       "477         1           55                74                 25          29   \n",
       "478         1           30                17                 14          57   \n",
       "479         1           35                14                 23          62   \n",
       "\n",
       "     ParentAnsweringSurvey  ParentschoolSatisfaction  StudentAbsenceDays Class  \n",
       "0                        1                         1                   0     M  \n",
       "1                        1                         1                   0     M  \n",
       "2                        0                         0                   1     L  \n",
       "3                        0                         0                   1     L  \n",
       "4                        0                         0                   1     M  \n",
       "..                     ...                       ...                 ...   ...  \n",
       "475                      0                         0                   1     L  \n",
       "476                      0                         0                   0     M  \n",
       "477                      0                         0                   0     M  \n",
       "478                      0                         0                   1     L  \n",
       "479                      0                         0                   1     L  \n",
       "\n",
       "[480 rows x 16 columns]"
      ]
     },
     "execution_count": 133,
     "metadata": {},
     "output_type": "execute_result"
    }
   ],
   "source": [
    "data"
   ]
  },
  {
   "cell_type": "markdown",
   "id": "0ccd5d64",
   "metadata": {},
   "source": [
    "####  Logistic Regression"
   ]
  },
  {
   "cell_type": "code",
   "execution_count": 134,
   "id": "eb70b8a8",
   "metadata": {},
   "outputs": [],
   "source": [
    "from sklearn.linear_model import LogisticRegression\n",
    "log_reg = LogisticRegression()"
   ]
  },
  {
   "cell_type": "code",
   "execution_count": 135,
   "id": "0dec8a92",
   "metadata": {},
   "outputs": [],
   "source": [
    "from sklearn.model_selection import train_test_split\n",
    "y = data['Class']\n",
    "X = data.drop(columns=['Class'], axis=1)\n",
    "X_train, X_test, y_train, y_test =  train_test_split(X, y, test_size=0.30, random_state=111)"
   ]
  },
  {
   "cell_type": "code",
   "execution_count": 136,
   "id": "b0e25e15",
   "metadata": {},
   "outputs": [
    {
     "name": "stdout",
     "output_type": "stream",
     "text": [
      "Accuracy Score: 72.62%\n",
      "_______________________________________________\n",
      "Classification Results:\n",
      "              precision    recall  f1-score   support\n",
      "\n",
      "           H       0.69      0.69      0.69        99\n",
      "           L       0.80      0.87      0.84        93\n",
      "           M       0.70      0.66      0.68       144\n",
      "\n",
      "    accuracy                           0.73       336\n",
      "   macro avg       0.73      0.74      0.73       336\n",
      "weighted avg       0.72      0.73      0.72       336\n",
      "\n",
      "_______________________________________________\n",
      "Confusion Matrix : \n",
      " [[68  1 30]\n",
      " [ 1 81 11]\n",
      " [30 19 95]]\n",
      "\n"
     ]
    }
   ],
   "source": [
    "log_reg.fit(X_train,y_train)\n",
    "pred = log_reg.predict(X_train)\n",
    "print(f\"Accuracy Score: {accuracy_score(y_train, pred) * 100:.2f}%\")\n",
    "print(\"_______________________________________________\")\n",
    "print(f\"Classification Results:\\n{classification_report(y_train, pred)}\")\n",
    "print(\"_______________________________________________\")\n",
    "print(f\"Confusion Matrix : \\n {confusion_matrix(y_train, pred)}\\n\")"
   ]
  },
  {
   "cell_type": "markdown",
   "id": "92629bd4",
   "metadata": {},
   "source": [
    "#### We got a lower accuracy than without dropping the column, but the precision and recall values increased slightly. Let's try changing the test-train ratios."
   ]
  },
  {
   "cell_type": "code",
   "execution_count": 137,
   "id": "ee49eee5",
   "metadata": {},
   "outputs": [],
   "source": [
    "y = data['Class']\n",
    "X = data.drop(columns=['Class'], axis=1)\n",
    "X_train, X_test, y_train, y_test =  train_test_split(X, y, test_size=0.20, random_state=111)"
   ]
  },
  {
   "cell_type": "code",
   "execution_count": 138,
   "id": "a89d78a6",
   "metadata": {},
   "outputs": [
    {
     "name": "stdout",
     "output_type": "stream",
     "text": [
      "Accuracy Score: 71.61%\n",
      "_______________________________________________\n",
      "Classification Results:\n",
      "              precision    recall  f1-score   support\n",
      "\n",
      "           H       0.67      0.66      0.66       112\n",
      "           L       0.81      0.87      0.84       107\n",
      "           M       0.68      0.65      0.67       165\n",
      "\n",
      "    accuracy                           0.72       384\n",
      "   macro avg       0.72      0.73      0.72       384\n",
      "weighted avg       0.71      0.72      0.71       384\n",
      "\n",
      "_______________________________________________\n",
      "Confusion Matrix : \n",
      " [[ 74   1  37]\n",
      " [  1  93  13]\n",
      " [ 36  21 108]]\n",
      "\n"
     ]
    }
   ],
   "source": [
    "log_reg.fit(X_train,y_train)\n",
    "pred = log_reg.predict(X_train)\n",
    "print(f\"Accuracy Score: {accuracy_score(y_train, pred) * 100:.2f}%\")\n",
    "print(\"_______________________________________________\")\n",
    "print(f\"Classification Results:\\n{classification_report(y_train, pred)}\")\n",
    "print(\"_______________________________________________\")\n",
    "print(f\"Confusion Matrix : \\n {confusion_matrix(y_train, pred)}\\n\")"
   ]
  },
  {
   "cell_type": "markdown",
   "id": "52d94853",
   "metadata": {},
   "source": [
    "#### The values were better in the 80/20 model before I dropped the column."
   ]
  },
  {
   "cell_type": "code",
   "execution_count": 139,
   "id": "5e568f34",
   "metadata": {},
   "outputs": [],
   "source": [
    "y = data['Class']\n",
    "X = data.drop(columns=['Class'], axis=1)\n",
    "X_train, X_test, y_train, y_test =  train_test_split(X, y, test_size=0.25, random_state=111)"
   ]
  },
  {
   "cell_type": "code",
   "execution_count": 140,
   "id": "eabca619",
   "metadata": {},
   "outputs": [
    {
     "name": "stdout",
     "output_type": "stream",
     "text": [
      "Accuracy Score: 74.72%\n",
      "_______________________________________________\n",
      "Classification Results:\n",
      "              precision    recall  f1-score   support\n",
      "\n",
      "           H       0.73      0.70      0.72       104\n",
      "           L       0.80      0.86      0.83       100\n",
      "           M       0.72      0.71      0.71       156\n",
      "\n",
      "    accuracy                           0.75       360\n",
      "   macro avg       0.75      0.76      0.75       360\n",
      "weighted avg       0.75      0.75      0.75       360\n",
      "\n",
      "_______________________________________________\n",
      "Confusion Matrix : \n",
      " [[ 73   1  30]\n",
      " [  1  86  13]\n",
      " [ 26  20 110]]\n",
      "\n"
     ]
    }
   ],
   "source": [
    "log_reg.fit(X_train,y_train)\n",
    "pred = log_reg.predict(X_train)\n",
    "print(f\"Accuracy Score: {accuracy_score(y_train, pred) * 100:.2f}%\")\n",
    "print(\"_______________________________________________\")\n",
    "print(f\"Classification Results:\\n{classification_report(y_train, pred)}\")\n",
    "print(\"_______________________________________________\")\n",
    "print(f\"Confusion Matrix : \\n {confusion_matrix(y_train, pred)}\\n\")"
   ]
  },
  {
   "cell_type": "markdown",
   "id": "b628d132",
   "metadata": {},
   "source": [
    "#### It was slightly better than the previous 75/25 model."
   ]
  },
  {
   "cell_type": "markdown",
   "id": "e0ef3f41",
   "metadata": {},
   "source": [
    "### Naive Bayes"
   ]
  },
  {
   "cell_type": "code",
   "execution_count": 141,
   "id": "66c0bae5",
   "metadata": {},
   "outputs": [],
   "source": [
    "X=data.drop('Class',axis=1)\n",
    "y=data[\"Class\"]\n",
    "X_train,X_test,y_train,y_test=train_test_split(X,y,test_size=0.3,random_state=0)"
   ]
  },
  {
   "cell_type": "code",
   "execution_count": 142,
   "id": "157cbd5a",
   "metadata": {},
   "outputs": [
    {
     "data": {
      "text/plain": [
       "GaussianNB()"
      ]
     },
     "execution_count": 142,
     "metadata": {},
     "output_type": "execute_result"
    }
   ],
   "source": [
    "gauss=GaussianNB()\n",
    "gauss.fit(X_train,y_train)"
   ]
  },
  {
   "cell_type": "code",
   "execution_count": 143,
   "id": "5fd033ea",
   "metadata": {},
   "outputs": [],
   "source": [
    "y_pred = gauss.predict(X_test)"
   ]
  },
  {
   "cell_type": "code",
   "execution_count": 144,
   "id": "a14a9a5b",
   "metadata": {},
   "outputs": [
    {
     "name": "stdout",
     "output_type": "stream",
     "text": [
      "Train Result:\n",
      "\n",
      "Accuracy Score: 69.44%\n",
      "_______________________________________________\n",
      "Classification Results:\n",
      "              precision    recall  f1-score   support\n",
      "\n",
      "           H       0.58      0.77      0.66        39\n",
      "           L       0.76      0.91      0.83        34\n",
      "           M       0.76      0.55      0.64        71\n",
      "\n",
      "    accuracy                           0.69       144\n",
      "   macro avg       0.70      0.74      0.71       144\n",
      "weighted avg       0.71      0.69      0.69       144\n",
      "\n",
      "_______________________________________________\n",
      "Confusion Matrix: \n",
      " [[30  0  9]\n",
      " [ 0 31  3]\n",
      " [22 10 39]]\n",
      "\n"
     ]
    }
   ],
   "source": [
    "print(\"Train Result:\\n\")\n",
    "print(f\"Accuracy Score: {accuracy_score(y_test, y_pred) * 100:.2f}%\")\n",
    "print(\"_______________________________________________\")\n",
    "print(f\"Classification Results:\\n{classification_report(y_test, y_pred)}\")\n",
    "print(\"_______________________________________________\")\n",
    "print(f\"Confusion Matrix: \\n {confusion_matrix(y_test, y_pred)}\\n\")"
   ]
  },
  {
   "cell_type": "markdown",
   "id": "8fc411fb",
   "metadata": {},
   "source": [
    "#### The values are slightly lower than before."
   ]
  },
  {
   "cell_type": "code",
   "execution_count": 145,
   "id": "00729674",
   "metadata": {},
   "outputs": [],
   "source": [
    "X=data.drop('Class',axis=1)\n",
    "y=data[\"Class\"]\n",
    "X_train,X_test,y_train,y_test=train_test_split(X,y,test_size=0.2,random_state=0)"
   ]
  },
  {
   "cell_type": "code",
   "execution_count": 146,
   "id": "1bd90aa7",
   "metadata": {},
   "outputs": [
    {
     "data": {
      "text/plain": [
       "GaussianNB()"
      ]
     },
     "execution_count": 146,
     "metadata": {},
     "output_type": "execute_result"
    }
   ],
   "source": [
    "gauss=GaussianNB()\n",
    "gauss.fit(X_train,y_train)"
   ]
  },
  {
   "cell_type": "code",
   "execution_count": 147,
   "id": "eb059266",
   "metadata": {},
   "outputs": [],
   "source": [
    "y_pred = gauss.predict(X_test)"
   ]
  },
  {
   "cell_type": "code",
   "execution_count": 148,
   "id": "1a296f25",
   "metadata": {},
   "outputs": [
    {
     "name": "stdout",
     "output_type": "stream",
     "text": [
      "Train Result:\n",
      "\n",
      "Accuracy Score: 70.83%\n",
      "_______________________________________________\n",
      "Classification Results:\n",
      "              precision    recall  f1-score   support\n",
      "\n",
      "           H       0.59      0.82      0.69        28\n",
      "           L       0.79      0.96      0.86        23\n",
      "           M       0.79      0.51      0.62        45\n",
      "\n",
      "    accuracy                           0.71        96\n",
      "   macro avg       0.72      0.76      0.72        96\n",
      "weighted avg       0.73      0.71      0.70        96\n",
      "\n",
      "_______________________________________________\n",
      "Confusion Matrix: \n",
      " [[23  0  5]\n",
      " [ 0 22  1]\n",
      " [16  6 23]]\n",
      "\n"
     ]
    }
   ],
   "source": [
    "print(\"Train Result:\\n\")\n",
    "print(f\"Accuracy Score: {accuracy_score(y_test, y_pred) * 100:.2f}%\")\n",
    "print(\"_______________________________________________\")\n",
    "print(f\"Classification Results:\\n{classification_report(y_test, y_pred)}\")\n",
    "print(\"_______________________________________________\")\n",
    "print(f\"Confusion Matrix: \\n {confusion_matrix(y_test, y_pred)}\\n\")"
   ]
  },
  {
   "cell_type": "markdown",
   "id": "8447f9c8",
   "metadata": {},
   "source": [
    "#### Values are slightly higher than before."
   ]
  },
  {
   "cell_type": "code",
   "execution_count": 149,
   "id": "b221c69a",
   "metadata": {},
   "outputs": [],
   "source": [
    "X=data.drop('Class',axis=1)\n",
    "y=data[\"Class\"]\n",
    "X_train,X_test,y_train,y_test=train_test_split(X,y,test_size=0.5,random_state=0)"
   ]
  },
  {
   "cell_type": "code",
   "execution_count": 150,
   "id": "da10bebc",
   "metadata": {},
   "outputs": [
    {
     "data": {
      "text/plain": [
       "GaussianNB()"
      ]
     },
     "execution_count": 150,
     "metadata": {},
     "output_type": "execute_result"
    }
   ],
   "source": [
    "gauss=GaussianNB()\n",
    "gauss.fit(X_train,y_train)"
   ]
  },
  {
   "cell_type": "code",
   "execution_count": 151,
   "id": "12d27da7",
   "metadata": {},
   "outputs": [],
   "source": [
    "y_pred = gauss.predict(X_test)"
   ]
  },
  {
   "cell_type": "code",
   "execution_count": 152,
   "id": "4e80d70f",
   "metadata": {},
   "outputs": [
    {
     "name": "stdout",
     "output_type": "stream",
     "text": [
      "Train Result:\n",
      "\n",
      "Accuracy Score: 70.83%\n",
      "_______________________________________________\n",
      "Classification Results:\n",
      "              precision    recall  f1-score   support\n",
      "\n",
      "           H       0.64      0.78      0.70        68\n",
      "           L       0.73      0.92      0.81        60\n",
      "           M       0.76      0.55      0.64       112\n",
      "\n",
      "    accuracy                           0.71       240\n",
      "   macro avg       0.71      0.75      0.72       240\n",
      "weighted avg       0.72      0.71      0.70       240\n",
      "\n",
      "_______________________________________________\n",
      "Confusion Matrix: \n",
      " [[53  0 15]\n",
      " [ 0 55  5]\n",
      " [30 20 62]]\n",
      "\n"
     ]
    }
   ],
   "source": [
    "print(\"Train Result:\\n\")\n",
    "print(f\"Accuracy Score: {accuracy_score(y_test, y_pred) * 100:.2f}%\")\n",
    "print(\"_______________________________________________\")\n",
    "print(f\"Classification Results:\\n{classification_report(y_test, y_pred)}\")\n",
    "print(\"_______________________________________________\")\n",
    "print(f\"Confusion Matrix: \\n {confusion_matrix(y_test, y_pred)}\\n\")"
   ]
  },
  {
   "cell_type": "markdown",
   "id": "8df991fe",
   "metadata": {},
   "source": [
    "#### The values are slightly lower than before."
   ]
  },
  {
   "cell_type": "markdown",
   "id": "7ce202b6",
   "metadata": {},
   "source": [
    "### KNN"
   ]
  },
  {
   "cell_type": "code",
   "execution_count": 153,
   "id": "4899b632",
   "metadata": {},
   "outputs": [],
   "source": [
    "X=data.drop('Class',axis=1)\n",
    "y=data[\"Class\"]\n",
    "X_train,X_test,y_train,y_test=train_test_split(X,y,test_size=0.3,random_state=0)\n",
    "knn = KNeighborsClassifier()\n",
    "knn.fit(X_train, y_train)\n",
    "knn_predict = knn.predict(X_test)"
   ]
  },
  {
   "cell_type": "code",
   "execution_count": 154,
   "id": "da3cbe48",
   "metadata": {},
   "outputs": [
    {
     "name": "stdout",
     "output_type": "stream",
     "text": [
      "Train Result:\n",
      "\n",
      "Accuracy Score: 62.50%\n",
      "_______________________________________________\n",
      "Classification Result:\n",
      "              precision    recall  f1-score   support\n",
      "\n",
      "           H       0.51      0.54      0.53        39\n",
      "           L       0.71      0.79      0.75        34\n",
      "           M       0.65      0.59      0.62        71\n",
      "\n",
      "    accuracy                           0.62       144\n",
      "   macro avg       0.62      0.64      0.63       144\n",
      "weighted avg       0.63      0.62      0.62       144\n",
      "\n",
      "_______________________________________________\n",
      "Confusion Matrix: \n",
      " [[21  2 16]\n",
      " [ 0 27  7]\n",
      " [20  9 42]]\n",
      "\n"
     ]
    }
   ],
   "source": [
    "print(\"Train Result:\\n\")\n",
    "print(f\"Accuracy Score: {accuracy_score(y_test, knn_predict) * 100:.2f}%\")\n",
    "print(\"_______________________________________________\")\n",
    "print(f\"Classification Result:\\n{classification_report(y_test, knn_predict)}\")\n",
    "print(\"_______________________________________________\")\n",
    "print(f\"Confusion Matrix: \\n {confusion_matrix(y_test, knn_predict)}\\n\")"
   ]
  },
  {
   "cell_type": "markdown",
   "id": "44f3de89",
   "metadata": {},
   "source": [
    "#### The values are slightly lower than before."
   ]
  },
  {
   "cell_type": "code",
   "execution_count": 155,
   "id": "f2f826ab",
   "metadata": {},
   "outputs": [],
   "source": [
    "X=data.drop('Class',axis=1)\n",
    "y=data[\"Class\"]\n",
    "X_train,X_test,y_train,y_test=train_test_split(X,y,test_size=0.3,random_state=0)\n",
    "knn = KNeighborsClassifier()\n",
    "knn.fit(X_train, y_train)\n",
    "knn_predict = knn.predict(X_test)"
   ]
  },
  {
   "cell_type": "code",
   "execution_count": 156,
   "id": "0938d06b",
   "metadata": {},
   "outputs": [
    {
     "name": "stdout",
     "output_type": "stream",
     "text": [
      "Train Result:\n",
      "\n",
      "Accuracy Score: 62.50%\n",
      "_______________________________________________\n",
      "Classification Result:\n",
      "              precision    recall  f1-score   support\n",
      "\n",
      "           H       0.51      0.54      0.53        39\n",
      "           L       0.71      0.79      0.75        34\n",
      "           M       0.65      0.59      0.62        71\n",
      "\n",
      "    accuracy                           0.62       144\n",
      "   macro avg       0.62      0.64      0.63       144\n",
      "weighted avg       0.63      0.62      0.62       144\n",
      "\n",
      "_______________________________________________\n",
      "Confusion Matrix: \n",
      " [[21  2 16]\n",
      " [ 0 27  7]\n",
      " [20  9 42]]\n",
      "\n"
     ]
    }
   ],
   "source": [
    "print(\"Train Result:\\n\")\n",
    "print(f\"Accuracy Score: {accuracy_score(y_test, knn_predict) * 100:.2f}%\")\n",
    "print(\"_______________________________________________\")\n",
    "print(f\"Classification Result:\\n{classification_report(y_test, knn_predict)}\")\n",
    "print(\"_______________________________________________\")\n",
    "print(f\"Confusion Matrix: \\n {confusion_matrix(y_test, knn_predict)}\\n\")"
   ]
  },
  {
   "cell_type": "markdown",
   "id": "c7427ec2",
   "metadata": {},
   "source": [
    "#### The values are slightly lower than before."
   ]
  },
  {
   "cell_type": "code",
   "execution_count": 157,
   "id": "41fbc835",
   "metadata": {},
   "outputs": [],
   "source": [
    "X=data.drop('Class',axis=1)\n",
    "y=data[\"Class\"]\n",
    "X_train,X_test,y_train,y_test=train_test_split(X,y,test_size=0.5,random_state=0)\n",
    "knn = KNeighborsClassifier()\n",
    "knn.fit(X_train, y_train)\n",
    "knn_predict = knn.predict(X_test)"
   ]
  },
  {
   "cell_type": "code",
   "execution_count": 158,
   "id": "7c3faa73",
   "metadata": {},
   "outputs": [
    {
     "name": "stdout",
     "output_type": "stream",
     "text": [
      "Train Result:\n",
      "\n",
      "Accuracy Score: 61.25%\n",
      "_______________________________________________\n",
      "Classification Result:\n",
      "              precision    recall  f1-score   support\n",
      "\n",
      "           H       0.58      0.53      0.55        68\n",
      "           L       0.66      0.75      0.70        60\n",
      "           M       0.60      0.59      0.59       112\n",
      "\n",
      "    accuracy                           0.61       240\n",
      "   macro avg       0.61      0.62      0.62       240\n",
      "weighted avg       0.61      0.61      0.61       240\n",
      "\n",
      "_______________________________________________\n",
      "Confusion Matrix: \n",
      " [[36  3 29]\n",
      " [ 0 45 15]\n",
      " [26 20 66]]\n",
      "\n"
     ]
    }
   ],
   "source": [
    "print(\"Train Result:\\n\")\n",
    "print(f\"Accuracy Score: {accuracy_score(y_test, knn_predict) * 100:.2f}%\")\n",
    "print(\"_______________________________________________\")\n",
    "print(f\"Classification Result:\\n{classification_report(y_test, knn_predict)}\")\n",
    "print(\"_______________________________________________\")\n",
    "print(f\"Confusion Matrix: \\n {confusion_matrix(y_test, knn_predict)}\\n\")"
   ]
  },
  {
   "cell_type": "markdown",
   "id": "0c429096",
   "metadata": {},
   "source": [
    "#### The values are slightly lower than before."
   ]
  },
  {
   "cell_type": "markdown",
   "id": "ea9c2b82",
   "metadata": {},
   "source": [
    "### Decision Tree"
   ]
  },
  {
   "cell_type": "code",
   "execution_count": 159,
   "id": "b57bd057",
   "metadata": {},
   "outputs": [],
   "source": [
    "X=data.drop('Class',axis=1)\n",
    "y=data[\"Class\"]\n",
    "X_train,X_test,y_train,y_test=train_test_split(X,y,test_size=0.20,random_state=0)\n",
    "from sklearn.tree import DecisionTreeClassifier\n",
    "decisiontree=DecisionTreeClassifier().fit(X_train,y_train)   #default criterion=gini\n",
    "decisiontreepredict=decisiontree.predict(X_test)"
   ]
  },
  {
   "cell_type": "code",
   "execution_count": 160,
   "id": "e64f3666",
   "metadata": {},
   "outputs": [
    {
     "name": "stdout",
     "output_type": "stream",
     "text": [
      "Train Result:\n",
      "Accuracy Score: 78.12%\n",
      "_______________________________________________\n",
      "Classification Results:\n",
      "              precision    recall  f1-score   support\n",
      "\n",
      "           H       0.71      0.71      0.71        28\n",
      "           L       0.81      0.96      0.88        23\n",
      "           M       0.80      0.73      0.77        45\n",
      "\n",
      "    accuracy                           0.78        96\n",
      "   macro avg       0.78      0.80      0.79        96\n",
      "weighted avg       0.78      0.78      0.78        96\n",
      "\n",
      "_______________________________________________\n",
      "Confusion Matrix: \n",
      " [[20  1  7]\n",
      " [ 0 22  1]\n",
      " [ 8  4 33]]\n",
      "\n"
     ]
    }
   ],
   "source": [
    "print(\"Train Result:\")\n",
    "print(f\"Accuracy Score: {accuracy_score(y_test, decisiontreepredict) * 100:.2f}%\")\n",
    "print(\"_______________________________________________\")\n",
    "print(f\"Classification Results:\\n{classification_report(y_test, decisiontreepredict)}\")\n",
    "print(\"_______________________________________________\")\n",
    "print(f\"Confusion Matrix: \\n {confusion_matrix(y_test, decisiontreepredict)}\\n\")"
   ]
  },
  {
   "cell_type": "markdown",
   "id": "1e864a48",
   "metadata": {},
   "source": [
    "#### Values rose acceptably compared to the previous model."
   ]
  },
  {
   "cell_type": "code",
   "execution_count": 161,
   "id": "8c9a7e69",
   "metadata": {},
   "outputs": [
    {
     "data": {
      "text/plain": [
       "DecisionTreeClassifier(criterion='entropy')"
      ]
     },
     "execution_count": 161,
     "metadata": {},
     "output_type": "execute_result"
    }
   ],
   "source": [
    "X=data.drop('Class',axis=1)\n",
    "y=data[\"Class\"]\n",
    "X_train,X_test,y_train,y_test=train_test_split(X,y,test_size=0.20,random_state=0)\n",
    "DecisionTreeClassifier(criterion=\"entropy\").fit(X_train,y_train)"
   ]
  },
  {
   "cell_type": "code",
   "execution_count": 162,
   "id": "b1b6fa1f",
   "metadata": {},
   "outputs": [],
   "source": [
    "decisiontreepredict=decisiontree.predict(X_test)"
   ]
  },
  {
   "cell_type": "code",
   "execution_count": 163,
   "id": "2f7636ab",
   "metadata": {},
   "outputs": [
    {
     "name": "stdout",
     "output_type": "stream",
     "text": [
      "Train Result:\n",
      "Accuracy Score: 78.12%\n",
      "_______________________________________________\n",
      "Classification Results:\n",
      "              precision    recall  f1-score   support\n",
      "\n",
      "           H       0.71      0.71      0.71        28\n",
      "           L       0.81      0.96      0.88        23\n",
      "           M       0.80      0.73      0.77        45\n",
      "\n",
      "    accuracy                           0.78        96\n",
      "   macro avg       0.78      0.80      0.79        96\n",
      "weighted avg       0.78      0.78      0.78        96\n",
      "\n",
      "_______________________________________________\n",
      "Confusion Matrix: \n",
      " [[20  1  7]\n",
      " [ 0 22  1]\n",
      " [ 8  4 33]]\n",
      "\n"
     ]
    }
   ],
   "source": [
    "print(\"Train Result:\")\n",
    "print(f\"Accuracy Score: {accuracy_score(y_test, decisiontreepredict) * 100:.2f}%\")\n",
    "print(\"_______________________________________________\")\n",
    "print(f\"Classification Results:\\n{classification_report(y_test, decisiontreepredict)}\")\n",
    "print(\"_______________________________________________\")\n",
    "print(f\"Confusion Matrix: \\n {confusion_matrix(y_test, decisiontreepredict)}\\n\")"
   ]
  },
  {
   "cell_type": "markdown",
   "id": "9152e43f",
   "metadata": {},
   "source": [
    "#### Values rose acceptably compared to the previous model."
   ]
  },
  {
   "cell_type": "code",
   "execution_count": 164,
   "id": "28861da9",
   "metadata": {},
   "outputs": [
    {
     "data": {
      "text/plain": [
       "DecisionTreeClassifier(criterion='entropy')"
      ]
     },
     "execution_count": 164,
     "metadata": {},
     "output_type": "execute_result"
    }
   ],
   "source": [
    "X=data.drop('Class',axis=1)\n",
    "y=data[\"Class\"]\n",
    "X_train,X_test,y_train,y_test=train_test_split(X,y,test_size=0.50,random_state=0)\n",
    "DecisionTreeClassifier(criterion=\"entropy\").fit(X_train,y_train)"
   ]
  },
  {
   "cell_type": "code",
   "execution_count": 165,
   "id": "43686084",
   "metadata": {},
   "outputs": [],
   "source": [
    "decisiontreepredict=decisiontree.predict(X_test)"
   ]
  },
  {
   "cell_type": "code",
   "execution_count": 166,
   "id": "3c8ed2ce",
   "metadata": {},
   "outputs": [
    {
     "name": "stdout",
     "output_type": "stream",
     "text": [
      "Train Result:\n",
      "Accuracy Score: 91.25%\n",
      "_______________________________________________\n",
      "Classification Results:\n",
      "              precision    recall  f1-score   support\n",
      "\n",
      "           H       0.88      0.88      0.88        68\n",
      "           L       0.92      0.98      0.95        60\n",
      "           M       0.93      0.89      0.91       112\n",
      "\n",
      "    accuracy                           0.91       240\n",
      "   macro avg       0.91      0.92      0.91       240\n",
      "weighted avg       0.91      0.91      0.91       240\n",
      "\n",
      "_______________________________________________\n",
      "Confusion Matrix: \n",
      " [[ 60   1   7]\n",
      " [  0  59   1]\n",
      " [  8   4 100]]\n",
      "\n"
     ]
    }
   ],
   "source": [
    "print(\"Train Result:\")\n",
    "print(f\"Accuracy Score: {accuracy_score(y_test, decisiontreepredict) * 100:.2f}%\")\n",
    "print(\"_______________________________________________\")\n",
    "print(f\"Classification Results:\\n{classification_report(y_test, decisiontreepredict)}\")\n",
    "print(\"_______________________________________________\")\n",
    "print(f\"Confusion Matrix: \\n {confusion_matrix(y_test, decisiontreepredict)}\\n\")"
   ]
  },
  {
   "cell_type": "markdown",
   "id": "f6fa7d15",
   "metadata": {},
   "source": [
    "#### The value increased compared to the previous model."
   ]
  },
  {
   "cell_type": "code",
   "execution_count": 167,
   "id": "5e5bb619",
   "metadata": {},
   "outputs": [
    {
     "data": {
      "text/plain": [
       "DecisionTreeClassifier(criterion='entropy')"
      ]
     },
     "execution_count": 167,
     "metadata": {},
     "output_type": "execute_result"
    }
   ],
   "source": [
    "X=data.drop('Class',axis=1)\n",
    "y=data[\"Class\"]\n",
    "X_train,X_test,y_train,y_test=train_test_split(X,y,test_size=0.25,random_state=0)\n",
    "DecisionTreeClassifier(criterion=\"entropy\").fit(X_train,y_train)"
   ]
  },
  {
   "cell_type": "code",
   "execution_count": 168,
   "id": "991e3077",
   "metadata": {},
   "outputs": [],
   "source": [
    "decisiontreepredict=decisiontree.predict(X_test)"
   ]
  },
  {
   "cell_type": "code",
   "execution_count": 169,
   "id": "0d4242cb",
   "metadata": {},
   "outputs": [
    {
     "name": "stdout",
     "output_type": "stream",
     "text": [
      "Train Result:\n",
      "Accuracy Score: 82.50%\n",
      "_______________________________________________\n",
      "Classification Results:\n",
      "              precision    recall  f1-score   support\n",
      "\n",
      "           H       0.76      0.76      0.76        33\n",
      "           L       0.86      0.97      0.91        33\n",
      "           M       0.84      0.78      0.81        54\n",
      "\n",
      "    accuracy                           0.82       120\n",
      "   macro avg       0.82      0.84      0.83       120\n",
      "weighted avg       0.82      0.82      0.82       120\n",
      "\n",
      "_______________________________________________\n",
      "Confusion Matrix: \n",
      " [[25  1  7]\n",
      " [ 0 32  1]\n",
      " [ 8  4 42]]\n",
      "\n"
     ]
    }
   ],
   "source": [
    "print(\"Train Result:\")\n",
    "print(f\"Accuracy Score: {accuracy_score(y_test, decisiontreepredict) * 100:.2f}%\")\n",
    "print(\"_______________________________________________\")\n",
    "print(f\"Classification Results:\\n{classification_report(y_test, decisiontreepredict)}\")\n",
    "print(\"_______________________________________________\")\n",
    "print(f\"Confusion Matrix: \\n {confusion_matrix(y_test, decisiontreepredict)}\\n\")"
   ]
  },
  {
   "cell_type": "markdown",
   "id": "35bd1f19",
   "metadata": {},
   "source": [
    "#### The value increased compared to the previous model."
   ]
  }
 ],
 "metadata": {
  "kernelspec": {
   "display_name": "Python 3",
   "language": "python",
   "name": "python3"
  },
  "language_info": {
   "codemirror_mode": {
    "name": "ipython",
    "version": 3
   },
   "file_extension": ".py",
   "mimetype": "text/x-python",
   "name": "python",
   "nbconvert_exporter": "python",
   "pygments_lexer": "ipython3",
   "version": "3.8.8"
  }
 },
 "nbformat": 4,
 "nbformat_minor": 5
}
